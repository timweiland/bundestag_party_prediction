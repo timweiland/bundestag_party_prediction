{
 "cells": [
  {
   "cell_type": "code",
   "execution_count": 14,
   "id": "intelligent-colombia",
   "metadata": {},
   "outputs": [],
   "source": [
    "import re\n",
    "import pandas as pd\n",
    "from matplotlib import pyplot as plt\n",
    "import numpy as np"
   ]
  },
  {
   "cell_type": "code",
   "execution_count": 15,
   "id": "precious-cleaner",
   "metadata": {},
   "outputs": [],
   "source": [
    "from tueplots import bundles\n",
    "plt.rcParams.update(bundles.neurips2021())"
   ]
  },
  {
   "cell_type": "markdown",
   "id": "honest-billion",
   "metadata": {},
   "source": [
    "# Data preparation"
   ]
  },
  {
   "cell_type": "code",
   "execution_count": 16,
   "id": "married-eclipse",
   "metadata": {},
   "outputs": [
    {
     "data": {
      "text/html": [
       "<div>\n",
       "<style scoped>\n",
       "    .dataframe tbody tr th:only-of-type {\n",
       "        vertical-align: middle;\n",
       "    }\n",
       "\n",
       "    .dataframe tbody tr th {\n",
       "        vertical-align: top;\n",
       "    }\n",
       "\n",
       "    .dataframe thead th {\n",
       "        text-align: right;\n",
       "    }\n",
       "</style>\n",
       "<table border=\"1\" class=\"dataframe\">\n",
       "  <thead>\n",
       "    <tr style=\"text-align: right;\">\n",
       "      <th></th>\n",
       "      <th>date</th>\n",
       "      <th>agenda</th>\n",
       "      <th>speechnumber</th>\n",
       "      <th>speaker</th>\n",
       "      <th>party</th>\n",
       "      <th>party.facts.id</th>\n",
       "      <th>chair</th>\n",
       "      <th>terms</th>\n",
       "      <th>text</th>\n",
       "      <th>parliament</th>\n",
       "      <th>iso3country</th>\n",
       "    </tr>\n",
       "  </thead>\n",
       "  <tbody>\n",
       "    <tr>\n",
       "      <th>0</th>\n",
       "      <td>1991-03-12</td>\n",
       "      <td>NaN</td>\n",
       "      <td>2</td>\n",
       "      <td>Theodor Waigel</td>\n",
       "      <td>CDU/CSU</td>\n",
       "      <td>211.0</td>\n",
       "      <td>False</td>\n",
       "      <td>880</td>\n",
       "      <td>Frau Präsidentin ! Meine sehr geehrten Damen u...</td>\n",
       "      <td>DE-Bundestag</td>\n",
       "      <td>DEU</td>\n",
       "    </tr>\n",
       "    <tr>\n",
       "      <th>1</th>\n",
       "      <td>1991-03-12</td>\n",
       "      <td>NaN</td>\n",
       "      <td>4</td>\n",
       "      <td>Theodor Waigel</td>\n",
       "      <td>CDU/CSU</td>\n",
       "      <td>211.0</td>\n",
       "      <td>False</td>\n",
       "      <td>5756</td>\n",
       "      <td>Nicht viel besser sieht es im Strassenwesen au...</td>\n",
       "      <td>DE-Bundestag</td>\n",
       "      <td>DEU</td>\n",
       "    </tr>\n",
       "    <tr>\n",
       "      <th>2</th>\n",
       "      <td>1991-03-12</td>\n",
       "      <td>NaN</td>\n",
       "      <td>6</td>\n",
       "      <td>Barbara Höll</td>\n",
       "      <td>PDS/LINKE</td>\n",
       "      <td>86.0</td>\n",
       "      <td>False</td>\n",
       "      <td>233</td>\n",
       "      <td>Geehrte Frau Präsidentin ! Meine Damen und Her...</td>\n",
       "      <td>DE-Bundestag</td>\n",
       "      <td>DEU</td>\n",
       "    </tr>\n",
       "    <tr>\n",
       "      <th>3</th>\n",
       "      <td>1991-03-12</td>\n",
       "      <td>NaN</td>\n",
       "      <td>8</td>\n",
       "      <td>Jürgen Rüttgers</td>\n",
       "      <td>CDU/CSU</td>\n",
       "      <td>211.0</td>\n",
       "      <td>False</td>\n",
       "      <td>242</td>\n",
       "      <td>Frau Präsidentin ! Meine sehr verehrten Damen ...</td>\n",
       "      <td>DE-Bundestag</td>\n",
       "      <td>DEU</td>\n",
       "    </tr>\n",
       "    <tr>\n",
       "      <th>4</th>\n",
       "      <td>1991-03-12</td>\n",
       "      <td>NaN</td>\n",
       "      <td>10</td>\n",
       "      <td>Peter Struck</td>\n",
       "      <td>SPD</td>\n",
       "      <td>383.0</td>\n",
       "      <td>False</td>\n",
       "      <td>31</td>\n",
       "      <td>Frau Präsidentin ! Meine Damen und Herren ! Wi...</td>\n",
       "      <td>DE-Bundestag</td>\n",
       "      <td>DEU</td>\n",
       "    </tr>\n",
       "  </tbody>\n",
       "</table>\n",
       "</div>"
      ],
      "text/plain": [
       "        date agenda  speechnumber          speaker      party  party.facts.id  \\\n",
       "0 1991-03-12    NaN             2   Theodor Waigel    CDU/CSU           211.0   \n",
       "1 1991-03-12    NaN             4   Theodor Waigel    CDU/CSU           211.0   \n",
       "2 1991-03-12    NaN             6     Barbara Höll  PDS/LINKE            86.0   \n",
       "3 1991-03-12    NaN             8  Jürgen Rüttgers    CDU/CSU           211.0   \n",
       "4 1991-03-12    NaN            10     Peter Struck        SPD           383.0   \n",
       "\n",
       "   chair  terms                                               text  \\\n",
       "0  False    880  Frau Präsidentin ! Meine sehr geehrten Damen u...   \n",
       "1  False   5756  Nicht viel besser sieht es im Strassenwesen au...   \n",
       "2  False    233  Geehrte Frau Präsidentin ! Meine Damen und Her...   \n",
       "3  False    242  Frau Präsidentin ! Meine sehr verehrten Damen ...   \n",
       "4  False     31  Frau Präsidentin ! Meine Damen und Herren ! Wi...   \n",
       "\n",
       "     parliament iso3country  \n",
       "0  DE-Bundestag         DEU  \n",
       "1  DE-Bundestag         DEU  \n",
       "2  DE-Bundestag         DEU  \n",
       "3  DE-Bundestag         DEU  \n",
       "4  DE-Bundestag         DEU  "
      ]
     },
     "execution_count": 16,
     "metadata": {},
     "output_type": "execute_result"
    }
   ],
   "source": [
    "# Read .csv data.\n",
    "data = pd.read_csv(\"../data/processed/parlspeech_bundestag_clean.csv\", parse_dates=['date'], low_memory=False)\n",
    "data = data.drop(columns=['Unnamed: 0', 'index'])\n",
    "data.head()"
   ]
  },
  {
   "cell_type": "code",
   "execution_count": 17,
   "id": "fifteen-dictionary",
   "metadata": {},
   "outputs": [
    {
     "data": {
      "text/plain": [
       "CDU/CSU      65785\n",
       "SPD          56011\n",
       "GRUENE       29396\n",
       "FDP          25874\n",
       "PDS/LINKE    21610\n",
       "AfD           1492\n",
       "Name: party, dtype: int64"
      ]
     },
     "execution_count": 17,
     "metadata": {},
     "output_type": "execute_result"
    }
   ],
   "source": [
    "data[\"party\"].value_counts()"
   ]
  },
  {
   "cell_type": "code",
   "execution_count": 18,
   "id": "temporal-greensboro",
   "metadata": {},
   "outputs": [],
   "source": [
    "from src.data.transformers.extract_features import Tokenizer, StopWordRemover\n",
    "from sklearn.pipeline import Pipeline\n",
    "\n",
    "regenerate = False\n",
    "if regenerate:\n",
    "    text_processing_pipeline = Pipeline([\n",
    "        ('tokenizer', Tokenizer()),\n",
    "        ('stop_word_remover', StopWordRemover())\n",
    "    ], verbose=True)\n",
    "\n",
    "    data = text_processing_pipeline.fit_transform(data)\n",
    "    data.to_csv(\"../data/processed/parlspeech_bundestag_tokenized.csv\", index=False)\n",
    "else:\n",
    "    data = pd.read_csv(\"../data/processed/parlspeech_bundestag_tokenized.csv\", low_memory=False)"
   ]
  },
  {
   "cell_type": "code",
   "execution_count": 19,
   "id": "aging-winning",
   "metadata": {},
   "outputs": [
    {
     "data": {
      "text/html": [
       "<div>\n",
       "<style scoped>\n",
       "    .dataframe tbody tr th:only-of-type {\n",
       "        vertical-align: middle;\n",
       "    }\n",
       "\n",
       "    .dataframe tbody tr th {\n",
       "        vertical-align: top;\n",
       "    }\n",
       "\n",
       "    .dataframe thead th {\n",
       "        text-align: right;\n",
       "    }\n",
       "</style>\n",
       "<table border=\"1\" class=\"dataframe\">\n",
       "  <thead>\n",
       "    <tr style=\"text-align: right;\">\n",
       "      <th></th>\n",
       "      <th>date</th>\n",
       "      <th>agenda</th>\n",
       "      <th>speechnumber</th>\n",
       "      <th>speaker</th>\n",
       "      <th>party</th>\n",
       "      <th>party.facts.id</th>\n",
       "      <th>chair</th>\n",
       "      <th>terms</th>\n",
       "      <th>text</th>\n",
       "      <th>parliament</th>\n",
       "      <th>iso3country</th>\n",
       "    </tr>\n",
       "  </thead>\n",
       "  <tbody>\n",
       "    <tr>\n",
       "      <th>0</th>\n",
       "      <td>1991-03-12</td>\n",
       "      <td>NaN</td>\n",
       "      <td>2</td>\n",
       "      <td>Theodor Waigel</td>\n",
       "      <td>CDU/CSU</td>\n",
       "      <td>211.0</td>\n",
       "      <td>False</td>\n",
       "      <td>880</td>\n",
       "      <td>frau präsidentin geehrten heute ersten beratun...</td>\n",
       "      <td>DE-Bundestag</td>\n",
       "      <td>DEU</td>\n",
       "    </tr>\n",
       "    <tr>\n",
       "      <th>1</th>\n",
       "      <td>1991-03-12</td>\n",
       "      <td>NaN</td>\n",
       "      <td>4</td>\n",
       "      <td>Theodor Waigel</td>\n",
       "      <td>CDU/CSU</td>\n",
       "      <td>211.0</td>\n",
       "      <td>False</td>\n",
       "      <td>5756</td>\n",
       "      <td>besser sieht strassenwesen früher vorbildliche...</td>\n",
       "      <td>DE-Bundestag</td>\n",
       "      <td>DEU</td>\n",
       "    </tr>\n",
       "    <tr>\n",
       "      <th>2</th>\n",
       "      <td>1991-03-12</td>\n",
       "      <td>NaN</td>\n",
       "      <td>6</td>\n",
       "      <td>Barbara Höll</td>\n",
       "      <td>PDS/LINKE</td>\n",
       "      <td>86.0</td>\n",
       "      <td>False</td>\n",
       "      <td>233</td>\n",
       "      <td>geehrte frau präsidentin verschiebung haushalt...</td>\n",
       "      <td>DE-Bundestag</td>\n",
       "      <td>DEU</td>\n",
       "    </tr>\n",
       "    <tr>\n",
       "      <th>3</th>\n",
       "      <td>1991-03-12</td>\n",
       "      <td>NaN</td>\n",
       "      <td>8</td>\n",
       "      <td>Jürgen Rüttgers</td>\n",
       "      <td>CDU/CSU</td>\n",
       "      <td>211.0</td>\n",
       "      <td>False</td>\n",
       "      <td>242</td>\n",
       "      <td>frau präsidentin verehrten cdu/ csu-fraktion a...</td>\n",
       "      <td>DE-Bundestag</td>\n",
       "      <td>DEU</td>\n",
       "    </tr>\n",
       "    <tr>\n",
       "      <th>4</th>\n",
       "      <td>1991-03-12</td>\n",
       "      <td>NaN</td>\n",
       "      <td>10</td>\n",
       "      <td>Peter Struck</td>\n",
       "      <td>SPD</td>\n",
       "      <td>383.0</td>\n",
       "      <td>False</td>\n",
       "      <td>31</td>\n",
       "      <td>frau präsidentin lehnen antrag ab allein desha...</td>\n",
       "      <td>DE-Bundestag</td>\n",
       "      <td>DEU</td>\n",
       "    </tr>\n",
       "  </tbody>\n",
       "</table>\n",
       "</div>"
      ],
      "text/plain": [
       "         date agenda  speechnumber          speaker      party  \\\n",
       "0  1991-03-12    NaN             2   Theodor Waigel    CDU/CSU   \n",
       "1  1991-03-12    NaN             4   Theodor Waigel    CDU/CSU   \n",
       "2  1991-03-12    NaN             6     Barbara Höll  PDS/LINKE   \n",
       "3  1991-03-12    NaN             8  Jürgen Rüttgers    CDU/CSU   \n",
       "4  1991-03-12    NaN            10     Peter Struck        SPD   \n",
       "\n",
       "   party.facts.id  chair  terms  \\\n",
       "0           211.0  False    880   \n",
       "1           211.0  False   5756   \n",
       "2            86.0  False    233   \n",
       "3           211.0  False    242   \n",
       "4           383.0  False     31   \n",
       "\n",
       "                                                text    parliament iso3country  \n",
       "0  frau präsidentin geehrten heute ersten beratun...  DE-Bundestag         DEU  \n",
       "1  besser sieht strassenwesen früher vorbildliche...  DE-Bundestag         DEU  \n",
       "2  geehrte frau präsidentin verschiebung haushalt...  DE-Bundestag         DEU  \n",
       "3  frau präsidentin verehrten cdu/ csu-fraktion a...  DE-Bundestag         DEU  \n",
       "4  frau präsidentin lehnen antrag ab allein desha...  DE-Bundestag         DEU  "
      ]
     },
     "execution_count": 19,
     "metadata": {},
     "output_type": "execute_result"
    }
   ],
   "source": [
    "data.head()"
   ]
  },
  {
   "cell_type": "code",
   "execution_count": 20,
   "id": "prompt-hopkins",
   "metadata": {},
   "outputs": [
    {
     "data": {
      "text/plain": [
       "'frau präsidentin geehrten heute ersten beratung vorliegende entwurf bundeshaushalts 1991 haushalt wiedervereinigung fast viertel ausgaben 400 milliarden dm bezieht 3 oktober 1990 neu hinzugekommenen bundesländer umfang struktur haushaltsentwurfs zeugnis gewaltigen herausforderungen seit fall mauer s'"
      ]
     },
     "execution_count": 20,
     "metadata": {},
     "output_type": "execute_result"
    }
   ],
   "source": [
    "data.iloc[0].text[:300]"
   ]
  },
  {
   "cell_type": "markdown",
   "id": "compound-alabama",
   "metadata": {},
   "source": [
    "Let's load the hand-engineered features so we can combine them with BoW / LDA:"
   ]
  },
  {
   "cell_type": "code",
   "execution_count": 162,
   "id": "parental-fourth",
   "metadata": {},
   "outputs": [
    {
     "data": {
      "text/html": [
       "<div>\n",
       "<style scoped>\n",
       "    .dataframe tbody tr th:only-of-type {\n",
       "        vertical-align: middle;\n",
       "    }\n",
       "\n",
       "    .dataframe tbody tr th {\n",
       "        vertical-align: top;\n",
       "    }\n",
       "\n",
       "    .dataframe thead th {\n",
       "        text-align: right;\n",
       "    }\n",
       "</style>\n",
       "<table border=\"1\" class=\"dataframe\">\n",
       "  <thead>\n",
       "    <tr style=\"text-align: right;\">\n",
       "      <th></th>\n",
       "      <th>party</th>\n",
       "      <th>text_length</th>\n",
       "      <th>avg_sentence_length</th>\n",
       "      <th>relative_num_exclamations</th>\n",
       "      <th>relative_num_questions</th>\n",
       "      <th>readability</th>\n",
       "      <th>num_profanities</th>\n",
       "      <th>TTR</th>\n",
       "      <th>sentiment</th>\n",
       "      <th>avg_word_length</th>\n",
       "      <th>stop_word_fraction</th>\n",
       "      <th>avg_tfidf</th>\n",
       "    </tr>\n",
       "  </thead>\n",
       "  <tbody>\n",
       "    <tr>\n",
       "      <th>0</th>\n",
       "      <td>CDU/CSU</td>\n",
       "      <td>5070</td>\n",
       "      <td>123.658537</td>\n",
       "      <td>0.000592</td>\n",
       "      <td>0.000394</td>\n",
       "      <td>25.45</td>\n",
       "      <td>1</td>\n",
       "      <td>0.577912</td>\n",
       "      <td>-0.082449</td>\n",
       "      <td>6.417549</td>\n",
       "      <td>0.479576</td>\n",
       "      <td>0.000023</td>\n",
       "    </tr>\n",
       "    <tr>\n",
       "      <th>1</th>\n",
       "      <td>CDU/CSU</td>\n",
       "      <td>36626</td>\n",
       "      <td>133.185455</td>\n",
       "      <td>0.000055</td>\n",
       "      <td>0.000055</td>\n",
       "      <td>25.65</td>\n",
       "      <td>0</td>\n",
       "      <td>0.350135</td>\n",
       "      <td>0.004907</td>\n",
       "      <td>6.389919</td>\n",
       "      <td>0.477817</td>\n",
       "      <td>0.000046</td>\n",
       "    </tr>\n",
       "    <tr>\n",
       "      <th>2</th>\n",
       "      <td>PDS/LINKE</td>\n",
       "      <td>1589</td>\n",
       "      <td>176.555556</td>\n",
       "      <td>0.001259</td>\n",
       "      <td>0.000000</td>\n",
       "      <td>10.90</td>\n",
       "      <td>0</td>\n",
       "      <td>0.741294</td>\n",
       "      <td>0.037170</td>\n",
       "      <td>6.666667</td>\n",
       "      <td>0.457711</td>\n",
       "      <td>0.000014</td>\n",
       "    </tr>\n",
       "    <tr>\n",
       "      <th>3</th>\n",
       "      <td>CDU/CSU</td>\n",
       "      <td>1394</td>\n",
       "      <td>107.230769</td>\n",
       "      <td>0.001435</td>\n",
       "      <td>0.000000</td>\n",
       "      <td>51.65</td>\n",
       "      <td>0</td>\n",
       "      <td>0.631068</td>\n",
       "      <td>-0.199800</td>\n",
       "      <td>5.451456</td>\n",
       "      <td>0.567961</td>\n",
       "      <td>0.000012</td>\n",
       "    </tr>\n",
       "    <tr>\n",
       "      <th>4</th>\n",
       "      <td>SPD</td>\n",
       "      <td>196</td>\n",
       "      <td>65.333333</td>\n",
       "      <td>0.010204</td>\n",
       "      <td>0.000000</td>\n",
       "      <td>27.10</td>\n",
       "      <td>0</td>\n",
       "      <td>0.960000</td>\n",
       "      <td>-0.004800</td>\n",
       "      <td>6.480000</td>\n",
       "      <td>0.480000</td>\n",
       "      <td>0.000005</td>\n",
       "    </tr>\n",
       "  </tbody>\n",
       "</table>\n",
       "</div>"
      ],
      "text/plain": [
       "       party  text_length  avg_sentence_length  relative_num_exclamations  \\\n",
       "0    CDU/CSU         5070           123.658537                   0.000592   \n",
       "1    CDU/CSU        36626           133.185455                   0.000055   \n",
       "2  PDS/LINKE         1589           176.555556                   0.001259   \n",
       "3    CDU/CSU         1394           107.230769                   0.001435   \n",
       "4        SPD          196            65.333333                   0.010204   \n",
       "\n",
       "   relative_num_questions  readability  num_profanities       TTR  sentiment  \\\n",
       "0                0.000394        25.45                1  0.577912  -0.082449   \n",
       "1                0.000055        25.65                0  0.350135   0.004907   \n",
       "2                0.000000        10.90                0  0.741294   0.037170   \n",
       "3                0.000000        51.65                0  0.631068  -0.199800   \n",
       "4                0.000000        27.10                0  0.960000  -0.004800   \n",
       "\n",
       "   avg_word_length  stop_word_fraction  avg_tfidf  \n",
       "0         6.417549            0.479576   0.000023  \n",
       "1         6.389919            0.477817   0.000046  \n",
       "2         6.666667            0.457711   0.000014  \n",
       "3         5.451456            0.567961   0.000012  \n",
       "4         6.480000            0.480000   0.000005  "
      ]
     },
     "execution_count": 162,
     "metadata": {},
     "output_type": "execute_result"
    }
   ],
   "source": [
    "feats = pd.read_csv(\"../data/processed/parlspeech_bundestag_feats.csv\")\n",
    "feats.head()"
   ]
  },
  {
   "cell_type": "markdown",
   "id": "optional-cornwall",
   "metadata": {},
   "source": [
    "Finally, let's prepare a train/test split."
   ]
  },
  {
   "cell_type": "code",
   "execution_count": 22,
   "id": "soviet-novel",
   "metadata": {},
   "outputs": [
    {
     "name": "stdout",
     "output_type": "stream",
     "text": [
      "CDU/CSU      0.328601\n",
      "SPD          0.279838\n",
      "GRUENE       0.146865\n",
      "FDP          0.129246\n",
      "PDS/LINKE    0.108001\n",
      "AfD          0.007449\n",
      "Name: party, dtype: float64\n",
      "CDU/CSU      0.328618\n",
      "SPD          0.279830\n",
      "GRUENE       0.146863\n",
      "FDP          0.129218\n",
      "PDS/LINKE    0.108023\n",
      "AfD          0.007448\n",
      "Name: party, dtype: float64\n"
     ]
    }
   ],
   "source": [
    "from sklearn.model_selection import train_test_split\n",
    "\n",
    "X = feats\n",
    "X['text'] = data['text']\n",
    "X = X.dropna(axis=0)\n",
    "y = X['party']\n",
    "X = X.drop(columns=['party'])\n",
    "X.reset_index(drop=True, inplace=True)\n",
    "    \n",
    "# use stratified sampling here\n",
    "X_train, X_test, y_train, y_test = train_test_split(X, y, test_size=0.1, random_state=42, stratify=y)\n",
    "print(y_train.value_counts() / len(y_train))\n",
    "print(y_test.value_counts() / len(y_test))"
   ]
  },
  {
   "cell_type": "markdown",
   "id": "comprehensive-bibliography",
   "metadata": {},
   "source": [
    "# Bag-of-words\n",
    "First, let's try if we can get the regression to work with plain old bag-of-words.\n",
    "\n",
    "We use a StandardScaler here instead of a MinMaxScaler because that's the type of scaling logistic regression assumes - and it also yields better performance.\n",
    "We experimented with different solvers, and LBFGS worked best at reasonable convergence times. It does produce warnings that it hasn't reached full convergence, but we find that letting it run for a longer time only produces very marginally better results. In our opinion, it is not worth the computational cost."
   ]
  },
  {
   "cell_type": "code",
   "execution_count": 23,
   "id": "explicit-intention",
   "metadata": {},
   "outputs": [],
   "source": [
    "from sklearn.base import BaseEstimator, TransformerMixin\n",
    "\n",
    "from sklearn.feature_extraction.text import CountVectorizer\n",
    "from sklearn.preprocessing import StandardScaler\n",
    "from sklearn.linear_model import LogisticRegression, SGDClassifier\n",
    "from sklearn.metrics import accuracy_score\n",
    "import scipy.sparse as ssp\n",
    "\n",
    "class BoWExtractor(BaseEstimator, TransformerMixin):\n",
    "    def __init__(self, num_words, max_df=0.5):\n",
    "        self.num_words = num_words\n",
    "        self.max_df = max_df\n",
    "        \n",
    "    def fit(self, X, y=None):\n",
    "        self.vectorizer = CountVectorizer(analyzer=\"word\", stop_words=None, tokenizer=None, preprocessor=None, max_features=self.num_words, max_df=self.max_df) # max_df and min_df might be worth checking out later\n",
    "        self.vectorizer.fit(X[\"text\"])\n",
    "        return self\n",
    "\n",
    "    def transform(self, X):\n",
    "        bow = self.vectorizer.transform(X[\"text\"])\n",
    "        #bow_df = pd.DataFrame.sparse.from_spmatrix(bow, columns=[f\"bow_{x}\" for x in self.vectorizer.get_feature_names_out()])\n",
    "        #bow_df.reset_index(drop=True, inplace=True)\n",
    "        X = X.drop(columns=[\"text\"])\n",
    "        X = X.to_numpy()\n",
    "        \n",
    "        #combined_df = pd.concat([X.reset_index(), bow_df.reset_index()], axis=1, ignore_index=True)\n",
    "        #print(combined_df.shape)\n",
    "        #print(combined_df.head())\n",
    "        #return combined_df.to_numpy()\n",
    "        return ssp.hstack((X, bow))\n",
    "\n",
    "bow_regression = Pipeline([\n",
    "    ('bow_extractor', BoWExtractor(num_words=1000)),\n",
    "    ('scaler', StandardScaler(with_mean=False)),\n",
    "    ('regression', LogisticRegression(solver='saga', random_state=42, n_jobs=-1)),\n",
    "])\n",
    "\n",
    "bow_regression_sgd = Pipeline([\n",
    "    ('bow_extractor', BoWExtractor(num_words=1000)),\n",
    "    ('scaler', StandardScaler()),\n",
    "    ('regression', SGDClassifier(loss=\"log\", random_state=42, n_jobs=-1)),\n",
    "])"
   ]
  },
  {
   "cell_type": "markdown",
   "id": "sitting-version",
   "metadata": {},
   "source": [
    "Let's do a grid search with cross-validation to find a good vocabulary size for our bag-of-words."
   ]
  },
  {
   "cell_type": "code",
   "execution_count": 24,
   "id": "subjective-bumper",
   "metadata": {},
   "outputs": [
    {
     "name": "stdout",
     "output_type": "stream",
     "text": [
      "Fitting 3 folds for each of 4 candidates, totalling 12 fits\n"
     ]
    },
    {
     "name": "stderr",
     "output_type": "stream",
     "text": [
      "/home/chelmney/miniconda3/envs/bundestag_party_prediction/lib/python3.10/site-packages/sklearn/linear_model/_sag.py:352: ConvergenceWarning: The max_iter was reached which means the coef_ did not converge\n",
      "  warnings.warn(\n"
     ]
    },
    {
     "name": "stdout",
     "output_type": "stream",
     "text": [
      "[CV 1/3] END ......bow_extractor__num_words=500;, score=0.455 total time= 1.1min\n"
     ]
    },
    {
     "name": "stderr",
     "output_type": "stream",
     "text": [
      "/home/chelmney/miniconda3/envs/bundestag_party_prediction/lib/python3.10/site-packages/sklearn/linear_model/_sag.py:352: ConvergenceWarning: The max_iter was reached which means the coef_ did not converge\n",
      "  warnings.warn(\n"
     ]
    },
    {
     "name": "stdout",
     "output_type": "stream",
     "text": [
      "[CV 2/3] END ......bow_extractor__num_words=500;, score=0.451 total time= 1.1min\n"
     ]
    },
    {
     "name": "stderr",
     "output_type": "stream",
     "text": [
      "/home/chelmney/miniconda3/envs/bundestag_party_prediction/lib/python3.10/site-packages/sklearn/linear_model/_sag.py:352: ConvergenceWarning: The max_iter was reached which means the coef_ did not converge\n",
      "  warnings.warn(\n"
     ]
    },
    {
     "name": "stdout",
     "output_type": "stream",
     "text": [
      "[CV 3/3] END ......bow_extractor__num_words=500;, score=0.454 total time= 1.1min\n"
     ]
    },
    {
     "name": "stderr",
     "output_type": "stream",
     "text": [
      "/home/chelmney/miniconda3/envs/bundestag_party_prediction/lib/python3.10/site-packages/sklearn/linear_model/_sag.py:352: ConvergenceWarning: The max_iter was reached which means the coef_ did not converge\n",
      "  warnings.warn(\n"
     ]
    },
    {
     "name": "stdout",
     "output_type": "stream",
     "text": [
      "[CV 1/3] END .....bow_extractor__num_words=1000;, score=0.478 total time= 1.2min\n"
     ]
    },
    {
     "name": "stderr",
     "output_type": "stream",
     "text": [
      "/home/chelmney/miniconda3/envs/bundestag_party_prediction/lib/python3.10/site-packages/sklearn/linear_model/_sag.py:352: ConvergenceWarning: The max_iter was reached which means the coef_ did not converge\n",
      "  warnings.warn(\n"
     ]
    },
    {
     "name": "stdout",
     "output_type": "stream",
     "text": [
      "[CV 2/3] END .....bow_extractor__num_words=1000;, score=0.478 total time= 1.2min\n"
     ]
    },
    {
     "name": "stderr",
     "output_type": "stream",
     "text": [
      "/home/chelmney/miniconda3/envs/bundestag_party_prediction/lib/python3.10/site-packages/sklearn/linear_model/_sag.py:352: ConvergenceWarning: The max_iter was reached which means the coef_ did not converge\n",
      "  warnings.warn(\n"
     ]
    },
    {
     "name": "stdout",
     "output_type": "stream",
     "text": [
      "[CV 3/3] END .....bow_extractor__num_words=1000;, score=0.480 total time= 1.3min\n"
     ]
    },
    {
     "name": "stderr",
     "output_type": "stream",
     "text": [
      "/home/chelmney/miniconda3/envs/bundestag_party_prediction/lib/python3.10/site-packages/sklearn/linear_model/_sag.py:352: ConvergenceWarning: The max_iter was reached which means the coef_ did not converge\n",
      "  warnings.warn(\n"
     ]
    },
    {
     "name": "stdout",
     "output_type": "stream",
     "text": [
      "[CV 1/3] END .....bow_extractor__num_words=2000;, score=0.497 total time= 1.4min\n"
     ]
    },
    {
     "name": "stderr",
     "output_type": "stream",
     "text": [
      "/home/chelmney/miniconda3/envs/bundestag_party_prediction/lib/python3.10/site-packages/sklearn/linear_model/_sag.py:352: ConvergenceWarning: The max_iter was reached which means the coef_ did not converge\n",
      "  warnings.warn(\n"
     ]
    },
    {
     "name": "stdout",
     "output_type": "stream",
     "text": [
      "[CV 2/3] END .....bow_extractor__num_words=2000;, score=0.494 total time= 1.4min\n"
     ]
    },
    {
     "name": "stderr",
     "output_type": "stream",
     "text": [
      "/home/chelmney/miniconda3/envs/bundestag_party_prediction/lib/python3.10/site-packages/sklearn/linear_model/_sag.py:352: ConvergenceWarning: The max_iter was reached which means the coef_ did not converge\n",
      "  warnings.warn(\n"
     ]
    },
    {
     "name": "stdout",
     "output_type": "stream",
     "text": [
      "[CV 3/3] END .....bow_extractor__num_words=2000;, score=0.495 total time= 1.4min\n"
     ]
    },
    {
     "name": "stderr",
     "output_type": "stream",
     "text": [
      "/home/chelmney/miniconda3/envs/bundestag_party_prediction/lib/python3.10/site-packages/sklearn/linear_model/_sag.py:352: ConvergenceWarning: The max_iter was reached which means the coef_ did not converge\n",
      "  warnings.warn(\n"
     ]
    },
    {
     "name": "stdout",
     "output_type": "stream",
     "text": [
      "[CV 1/3] END .....bow_extractor__num_words=3000;, score=0.508 total time= 1.4min\n"
     ]
    },
    {
     "name": "stderr",
     "output_type": "stream",
     "text": [
      "/home/chelmney/miniconda3/envs/bundestag_party_prediction/lib/python3.10/site-packages/sklearn/linear_model/_sag.py:352: ConvergenceWarning: The max_iter was reached which means the coef_ did not converge\n",
      "  warnings.warn(\n"
     ]
    },
    {
     "name": "stdout",
     "output_type": "stream",
     "text": [
      "[CV 2/3] END .....bow_extractor__num_words=3000;, score=0.504 total time= 1.4min\n"
     ]
    },
    {
     "name": "stderr",
     "output_type": "stream",
     "text": [
      "/home/chelmney/miniconda3/envs/bundestag_party_prediction/lib/python3.10/site-packages/sklearn/linear_model/_sag.py:352: ConvergenceWarning: The max_iter was reached which means the coef_ did not converge\n",
      "  warnings.warn(\n"
     ]
    },
    {
     "name": "stdout",
     "output_type": "stream",
     "text": [
      "[CV 3/3] END .....bow_extractor__num_words=3000;, score=0.506 total time= 1.4min\n"
     ]
    },
    {
     "name": "stderr",
     "output_type": "stream",
     "text": [
      "/home/chelmney/miniconda3/envs/bundestag_party_prediction/lib/python3.10/site-packages/sklearn/linear_model/_sag.py:352: ConvergenceWarning: The max_iter was reached which means the coef_ did not converge\n",
      "  warnings.warn(\n"
     ]
    },
    {
     "data": {
      "text/plain": [
       "GridSearchCV(cv=3, error_score='raise',\n",
       "             estimator=Pipeline(steps=[('bow_extractor',\n",
       "                                        BoWExtractor(num_words=1000)),\n",
       "                                       ('scaler',\n",
       "                                        StandardScaler(with_mean=False)),\n",
       "                                       ('regression',\n",
       "                                        LogisticRegression(n_jobs=-1,\n",
       "                                                           random_state=42,\n",
       "                                                           solver='saga'))]),\n",
       "             param_grid=[{'bow_extractor__num_words': [500, 1000, 2000, 3000]}],\n",
       "             scoring='accuracy', verbose=4)"
      ]
     },
     "execution_count": 24,
     "metadata": {},
     "output_type": "execute_result"
    }
   ],
   "source": [
    "from sklearn.model_selection import GridSearchCV\n",
    "\n",
    "param_grid = [\n",
    "    {'bow_extractor__num_words': [500, 1000, 2000, 3000]}\n",
    "]\n",
    "\n",
    "grid_search = GridSearchCV(bow_regression, param_grid, cv=3, scoring='accuracy', verbose=4, error_score=\"raise\")\n",
    "grid_search.fit(X_train, y_train)"
   ]
  },
  {
   "cell_type": "markdown",
   "id": "other-dominant",
   "metadata": {},
   "source": [
    "Looks like using more words yields better performance. Let's evaluate BoW with 3000 words on the test set:"
   ]
  },
  {
   "cell_type": "code",
   "execution_count": 25,
   "id": "immune-overhead",
   "metadata": {},
   "outputs": [
    {
     "data": {
      "text/plain": [
       "Pipeline(steps=[('bow_extractor', BoWExtractor(num_words=3000)),\n",
       "                ('scaler', StandardScaler(with_mean=False)),\n",
       "                ('regression',\n",
       "                 LogisticRegression(n_jobs=-1, random_state=42,\n",
       "                                    solver='saga'))])"
      ]
     },
     "execution_count": 25,
     "metadata": {},
     "output_type": "execute_result"
    }
   ],
   "source": [
    "grid_search.best_estimator_"
   ]
  },
  {
   "cell_type": "code",
   "execution_count": 26,
   "id": "terminal-bottle",
   "metadata": {},
   "outputs": [
    {
     "data": {
      "text/plain": [
       "0.5109722569357661"
      ]
     },
     "execution_count": 26,
     "metadata": {},
     "output_type": "execute_result"
    }
   ],
   "source": [
    "y_test_pred = grid_search.predict(X_test)\n",
    "accuracy_score(y_test, y_test_pred)"
   ]
  },
  {
   "cell_type": "markdown",
   "id": "innocent-appraisal",
   "metadata": {},
   "source": [
    "Not bad, but let's see if we can do better with a larger vocabulary."
   ]
  },
  {
   "cell_type": "code",
   "execution_count": 27,
   "id": "allied-choice",
   "metadata": {},
   "outputs": [
    {
     "name": "stdout",
     "output_type": "stream",
     "text": [
      "Fitting 3 folds for each of 6 candidates, totalling 18 fits\n"
     ]
    },
    {
     "name": "stderr",
     "output_type": "stream",
     "text": [
      "/home/chelmney/miniconda3/envs/bundestag_party_prediction/lib/python3.10/site-packages/sklearn/linear_model/_sag.py:352: ConvergenceWarning: The max_iter was reached which means the coef_ did not converge\n",
      "  warnings.warn(\n"
     ]
    },
    {
     "name": "stdout",
     "output_type": "stream",
     "text": [
      "[CV 1/3] END bow_extractor__num_words=500, regression__C=0.1;, score=0.455 total time= 1.1min\n"
     ]
    },
    {
     "name": "stderr",
     "output_type": "stream",
     "text": [
      "/home/chelmney/miniconda3/envs/bundestag_party_prediction/lib/python3.10/site-packages/sklearn/linear_model/_sag.py:352: ConvergenceWarning: The max_iter was reached which means the coef_ did not converge\n",
      "  warnings.warn(\n"
     ]
    },
    {
     "name": "stdout",
     "output_type": "stream",
     "text": [
      "[CV 2/3] END bow_extractor__num_words=500, regression__C=0.1;, score=0.451 total time= 1.1min\n"
     ]
    },
    {
     "name": "stderr",
     "output_type": "stream",
     "text": [
      "/home/chelmney/miniconda3/envs/bundestag_party_prediction/lib/python3.10/site-packages/sklearn/linear_model/_sag.py:352: ConvergenceWarning: The max_iter was reached which means the coef_ did not converge\n",
      "  warnings.warn(\n"
     ]
    },
    {
     "name": "stdout",
     "output_type": "stream",
     "text": [
      "[CV 3/3] END bow_extractor__num_words=500, regression__C=0.1;, score=0.454 total time= 1.1min\n"
     ]
    },
    {
     "name": "stderr",
     "output_type": "stream",
     "text": [
      "/home/chelmney/miniconda3/envs/bundestag_party_prediction/lib/python3.10/site-packages/sklearn/linear_model/_sag.py:352: ConvergenceWarning: The max_iter was reached which means the coef_ did not converge\n",
      "  warnings.warn(\n"
     ]
    },
    {
     "name": "stdout",
     "output_type": "stream",
     "text": [
      "[CV 1/3] END bow_extractor__num_words=500, regression__C=1;, score=0.455 total time= 1.1min\n"
     ]
    },
    {
     "name": "stderr",
     "output_type": "stream",
     "text": [
      "/home/chelmney/miniconda3/envs/bundestag_party_prediction/lib/python3.10/site-packages/sklearn/linear_model/_sag.py:352: ConvergenceWarning: The max_iter was reached which means the coef_ did not converge\n",
      "  warnings.warn(\n"
     ]
    },
    {
     "name": "stdout",
     "output_type": "stream",
     "text": [
      "[CV 2/3] END bow_extractor__num_words=500, regression__C=1;, score=0.451 total time= 1.1min\n"
     ]
    },
    {
     "name": "stderr",
     "output_type": "stream",
     "text": [
      "/home/chelmney/miniconda3/envs/bundestag_party_prediction/lib/python3.10/site-packages/sklearn/linear_model/_sag.py:352: ConvergenceWarning: The max_iter was reached which means the coef_ did not converge\n",
      "  warnings.warn(\n"
     ]
    },
    {
     "name": "stdout",
     "output_type": "stream",
     "text": [
      "[CV 3/3] END bow_extractor__num_words=500, regression__C=1;, score=0.454 total time= 1.1min\n"
     ]
    },
    {
     "name": "stderr",
     "output_type": "stream",
     "text": [
      "/home/chelmney/miniconda3/envs/bundestag_party_prediction/lib/python3.10/site-packages/sklearn/linear_model/_sag.py:352: ConvergenceWarning: The max_iter was reached which means the coef_ did not converge\n",
      "  warnings.warn(\n"
     ]
    },
    {
     "name": "stdout",
     "output_type": "stream",
     "text": [
      "[CV 1/3] END bow_extractor__num_words=500, regression__C=5;, score=0.456 total time= 1.1min\n"
     ]
    },
    {
     "name": "stderr",
     "output_type": "stream",
     "text": [
      "/home/chelmney/miniconda3/envs/bundestag_party_prediction/lib/python3.10/site-packages/sklearn/linear_model/_sag.py:352: ConvergenceWarning: The max_iter was reached which means the coef_ did not converge\n",
      "  warnings.warn(\n"
     ]
    },
    {
     "name": "stdout",
     "output_type": "stream",
     "text": [
      "[CV 2/3] END bow_extractor__num_words=500, regression__C=5;, score=0.451 total time= 1.1min\n"
     ]
    },
    {
     "name": "stderr",
     "output_type": "stream",
     "text": [
      "/home/chelmney/miniconda3/envs/bundestag_party_prediction/lib/python3.10/site-packages/sklearn/linear_model/_sag.py:352: ConvergenceWarning: The max_iter was reached which means the coef_ did not converge\n",
      "  warnings.warn(\n"
     ]
    },
    {
     "name": "stdout",
     "output_type": "stream",
     "text": [
      "[CV 3/3] END bow_extractor__num_words=500, regression__C=5;, score=0.454 total time= 1.1min\n"
     ]
    },
    {
     "name": "stderr",
     "output_type": "stream",
     "text": [
      "/home/chelmney/miniconda3/envs/bundestag_party_prediction/lib/python3.10/site-packages/sklearn/linear_model/_sag.py:352: ConvergenceWarning: The max_iter was reached which means the coef_ did not converge\n",
      "  warnings.warn(\n"
     ]
    },
    {
     "name": "stdout",
     "output_type": "stream",
     "text": [
      "[CV 1/3] END bow_extractor__num_words=4000, regression__C=0.1;, score=0.513 total time= 1.5min\n"
     ]
    },
    {
     "name": "stderr",
     "output_type": "stream",
     "text": [
      "/home/chelmney/miniconda3/envs/bundestag_party_prediction/lib/python3.10/site-packages/sklearn/linear_model/_sag.py:352: ConvergenceWarning: The max_iter was reached which means the coef_ did not converge\n",
      "  warnings.warn(\n"
     ]
    },
    {
     "name": "stdout",
     "output_type": "stream",
     "text": [
      "[CV 2/3] END bow_extractor__num_words=4000, regression__C=0.1;, score=0.509 total time= 1.5min\n"
     ]
    },
    {
     "name": "stderr",
     "output_type": "stream",
     "text": [
      "/home/chelmney/miniconda3/envs/bundestag_party_prediction/lib/python3.10/site-packages/sklearn/linear_model/_sag.py:352: ConvergenceWarning: The max_iter was reached which means the coef_ did not converge\n",
      "  warnings.warn(\n"
     ]
    },
    {
     "name": "stdout",
     "output_type": "stream",
     "text": [
      "[CV 3/3] END bow_extractor__num_words=4000, regression__C=0.1;, score=0.513 total time= 1.5min\n"
     ]
    },
    {
     "name": "stderr",
     "output_type": "stream",
     "text": [
      "/home/chelmney/miniconda3/envs/bundestag_party_prediction/lib/python3.10/site-packages/sklearn/linear_model/_sag.py:352: ConvergenceWarning: The max_iter was reached which means the coef_ did not converge\n",
      "  warnings.warn(\n"
     ]
    },
    {
     "name": "stdout",
     "output_type": "stream",
     "text": [
      "[CV 1/3] END bow_extractor__num_words=4000, regression__C=1;, score=0.513 total time= 1.5min\n"
     ]
    },
    {
     "name": "stderr",
     "output_type": "stream",
     "text": [
      "/home/chelmney/miniconda3/envs/bundestag_party_prediction/lib/python3.10/site-packages/sklearn/linear_model/_sag.py:352: ConvergenceWarning: The max_iter was reached which means the coef_ did not converge\n",
      "  warnings.warn(\n"
     ]
    },
    {
     "name": "stdout",
     "output_type": "stream",
     "text": [
      "[CV 2/3] END bow_extractor__num_words=4000, regression__C=1;, score=0.509 total time= 1.5min\n"
     ]
    },
    {
     "name": "stderr",
     "output_type": "stream",
     "text": [
      "/home/chelmney/miniconda3/envs/bundestag_party_prediction/lib/python3.10/site-packages/sklearn/linear_model/_sag.py:352: ConvergenceWarning: The max_iter was reached which means the coef_ did not converge\n",
      "  warnings.warn(\n"
     ]
    },
    {
     "name": "stdout",
     "output_type": "stream",
     "text": [
      "[CV 3/3] END bow_extractor__num_words=4000, regression__C=1;, score=0.513 total time= 1.5min\n"
     ]
    },
    {
     "name": "stderr",
     "output_type": "stream",
     "text": [
      "/home/chelmney/miniconda3/envs/bundestag_party_prediction/lib/python3.10/site-packages/sklearn/linear_model/_sag.py:352: ConvergenceWarning: The max_iter was reached which means the coef_ did not converge\n",
      "  warnings.warn(\n"
     ]
    },
    {
     "name": "stdout",
     "output_type": "stream",
     "text": [
      "[CV 1/3] END bow_extractor__num_words=4000, regression__C=5;, score=0.513 total time= 1.5min\n"
     ]
    },
    {
     "name": "stderr",
     "output_type": "stream",
     "text": [
      "/home/chelmney/miniconda3/envs/bundestag_party_prediction/lib/python3.10/site-packages/sklearn/linear_model/_sag.py:352: ConvergenceWarning: The max_iter was reached which means the coef_ did not converge\n",
      "  warnings.warn(\n"
     ]
    },
    {
     "name": "stdout",
     "output_type": "stream",
     "text": [
      "[CV 2/3] END bow_extractor__num_words=4000, regression__C=5;, score=0.509 total time= 1.5min\n"
     ]
    },
    {
     "name": "stderr",
     "output_type": "stream",
     "text": [
      "/home/chelmney/miniconda3/envs/bundestag_party_prediction/lib/python3.10/site-packages/sklearn/linear_model/_sag.py:352: ConvergenceWarning: The max_iter was reached which means the coef_ did not converge\n",
      "  warnings.warn(\n"
     ]
    },
    {
     "name": "stdout",
     "output_type": "stream",
     "text": [
      "[CV 3/3] END bow_extractor__num_words=4000, regression__C=5;, score=0.513 total time= 1.5min\n"
     ]
    },
    {
     "name": "stderr",
     "output_type": "stream",
     "text": [
      "/home/chelmney/miniconda3/envs/bundestag_party_prediction/lib/python3.10/site-packages/sklearn/linear_model/_sag.py:352: ConvergenceWarning: The max_iter was reached which means the coef_ did not converge\n",
      "  warnings.warn(\n"
     ]
    },
    {
     "data": {
      "text/plain": [
       "GridSearchCV(cv=3, error_score='raise',\n",
       "             estimator=Pipeline(steps=[('bow_extractor',\n",
       "                                        BoWExtractor(num_words=1000)),\n",
       "                                       ('scaler',\n",
       "                                        StandardScaler(with_mean=False)),\n",
       "                                       ('regression',\n",
       "                                        LogisticRegression(n_jobs=-1,\n",
       "                                                           random_state=42,\n",
       "                                                           solver='saga'))]),\n",
       "             param_grid=[{'bow_extractor__num_words': [500, 4000],\n",
       "                          'regression__C': [0.1, 1, 5]}],\n",
       "             scoring='accuracy', verbose=4)"
      ]
     },
     "execution_count": 27,
     "metadata": {},
     "output_type": "execute_result"
    }
   ],
   "source": [
    "from sklearn.model_selection import GridSearchCV\n",
    "\n",
    "param_grid_with_reg = [\n",
    "    {'bow_extractor__num_words': [500, 4000], 'regression__C': [0.1, 1, 5]}\n",
    "]\n",
    "\n",
    "grid_search_with_reg = GridSearchCV(bow_regression, param_grid_with_reg, cv=3, scoring='accuracy', verbose=4, error_score=\"raise\")\n",
    "grid_search_with_reg.fit(X_train, y_train)"
   ]
  },
  {
   "cell_type": "code",
   "execution_count": 28,
   "id": "relevant-victim",
   "metadata": {},
   "outputs": [
    {
     "name": "stdout",
     "output_type": "stream",
     "text": [
      "Fitting 3 folds for each of 3 candidates, totalling 9 fits\n"
     ]
    },
    {
     "name": "stderr",
     "output_type": "stream",
     "text": [
      "/home/chelmney/miniconda3/envs/bundestag_party_prediction/lib/python3.10/site-packages/sklearn/linear_model/_sag.py:352: ConvergenceWarning: The max_iter was reached which means the coef_ did not converge\n",
      "  warnings.warn(\n"
     ]
    },
    {
     "name": "stdout",
     "output_type": "stream",
     "text": [
      "[CV 1/3] END .....bow_extractor__num_words=5000;, score=0.513 total time= 1.6min\n"
     ]
    },
    {
     "name": "stderr",
     "output_type": "stream",
     "text": [
      "/home/chelmney/miniconda3/envs/bundestag_party_prediction/lib/python3.10/site-packages/sklearn/linear_model/_sag.py:352: ConvergenceWarning: The max_iter was reached which means the coef_ did not converge\n",
      "  warnings.warn(\n"
     ]
    },
    {
     "name": "stdout",
     "output_type": "stream",
     "text": [
      "[CV 2/3] END .....bow_extractor__num_words=5000;, score=0.513 total time= 1.6min\n"
     ]
    },
    {
     "name": "stderr",
     "output_type": "stream",
     "text": [
      "/home/chelmney/miniconda3/envs/bundestag_party_prediction/lib/python3.10/site-packages/sklearn/linear_model/_sag.py:352: ConvergenceWarning: The max_iter was reached which means the coef_ did not converge\n",
      "  warnings.warn(\n"
     ]
    },
    {
     "name": "stdout",
     "output_type": "stream",
     "text": [
      "[CV 3/3] END .....bow_extractor__num_words=5000;, score=0.515 total time= 1.6min\n"
     ]
    },
    {
     "name": "stderr",
     "output_type": "stream",
     "text": [
      "/home/chelmney/miniconda3/envs/bundestag_party_prediction/lib/python3.10/site-packages/sklearn/linear_model/_sag.py:352: ConvergenceWarning: The max_iter was reached which means the coef_ did not converge\n",
      "  warnings.warn(\n"
     ]
    },
    {
     "name": "stdout",
     "output_type": "stream",
     "text": [
      "[CV 1/3] END .....bow_extractor__num_words=7500;, score=0.516 total time= 1.6min\n"
     ]
    },
    {
     "name": "stderr",
     "output_type": "stream",
     "text": [
      "/home/chelmney/miniconda3/envs/bundestag_party_prediction/lib/python3.10/site-packages/sklearn/linear_model/_sag.py:352: ConvergenceWarning: The max_iter was reached which means the coef_ did not converge\n",
      "  warnings.warn(\n"
     ]
    },
    {
     "name": "stdout",
     "output_type": "stream",
     "text": [
      "[CV 2/3] END .....bow_extractor__num_words=7500;, score=0.516 total time= 1.6min\n"
     ]
    },
    {
     "name": "stderr",
     "output_type": "stream",
     "text": [
      "/home/chelmney/miniconda3/envs/bundestag_party_prediction/lib/python3.10/site-packages/sklearn/linear_model/_sag.py:352: ConvergenceWarning: The max_iter was reached which means the coef_ did not converge\n",
      "  warnings.warn(\n"
     ]
    },
    {
     "name": "stdout",
     "output_type": "stream",
     "text": [
      "[CV 3/3] END .....bow_extractor__num_words=7500;, score=0.521 total time= 1.6min\n"
     ]
    },
    {
     "name": "stderr",
     "output_type": "stream",
     "text": [
      "/home/chelmney/miniconda3/envs/bundestag_party_prediction/lib/python3.10/site-packages/sklearn/linear_model/_sag.py:352: ConvergenceWarning: The max_iter was reached which means the coef_ did not converge\n",
      "  warnings.warn(\n"
     ]
    },
    {
     "name": "stdout",
     "output_type": "stream",
     "text": [
      "[CV 1/3] END ....bow_extractor__num_words=10000;, score=0.514 total time= 1.7min\n"
     ]
    },
    {
     "name": "stderr",
     "output_type": "stream",
     "text": [
      "/home/chelmney/miniconda3/envs/bundestag_party_prediction/lib/python3.10/site-packages/sklearn/linear_model/_sag.py:352: ConvergenceWarning: The max_iter was reached which means the coef_ did not converge\n",
      "  warnings.warn(\n"
     ]
    },
    {
     "name": "stdout",
     "output_type": "stream",
     "text": [
      "[CV 2/3] END ....bow_extractor__num_words=10000;, score=0.514 total time= 1.7min\n"
     ]
    },
    {
     "name": "stderr",
     "output_type": "stream",
     "text": [
      "/home/chelmney/miniconda3/envs/bundestag_party_prediction/lib/python3.10/site-packages/sklearn/linear_model/_sag.py:352: ConvergenceWarning: The max_iter was reached which means the coef_ did not converge\n",
      "  warnings.warn(\n"
     ]
    },
    {
     "name": "stdout",
     "output_type": "stream",
     "text": [
      "[CV 3/3] END ....bow_extractor__num_words=10000;, score=0.526 total time= 1.7min\n"
     ]
    },
    {
     "name": "stderr",
     "output_type": "stream",
     "text": [
      "/home/chelmney/miniconda3/envs/bundestag_party_prediction/lib/python3.10/site-packages/sklearn/linear_model/_sag.py:352: ConvergenceWarning: The max_iter was reached which means the coef_ did not converge\n",
      "  warnings.warn(\n"
     ]
    },
    {
     "data": {
      "text/plain": [
       "GridSearchCV(cv=3, error_score='raise',\n",
       "             estimator=Pipeline(steps=[('bow_extractor',\n",
       "                                        BoWExtractor(num_words=1000)),\n",
       "                                       ('scaler',\n",
       "                                        StandardScaler(with_mean=False)),\n",
       "                                       ('regression',\n",
       "                                        LogisticRegression(n_jobs=-1,\n",
       "                                                           random_state=42,\n",
       "                                                           solver='saga'))]),\n",
       "             param_grid=[{'bow_extractor__num_words': [5000, 7500, 10000]}],\n",
       "             scoring='accuracy', verbose=4)"
      ]
     },
     "execution_count": 28,
     "metadata": {},
     "output_type": "execute_result"
    }
   ],
   "source": [
    "from sklearn.model_selection import GridSearchCV\n",
    "\n",
    "param_grid_large = [\n",
    "    {'bow_extractor__num_words': [5000, 7500, 10000]}\n",
    "]\n",
    "\n",
    "grid_search_large = GridSearchCV(bow_regression, param_grid_large, cv=3, scoring='accuracy', verbose=4, error_score=\"raise\")\n",
    "grid_search_large.fit(X_train, y_train)"
   ]
  },
  {
   "cell_type": "code",
   "execution_count": 29,
   "id": "vertical-chicago",
   "metadata": {},
   "outputs": [
    {
     "data": {
      "text/plain": [
       "0.5220194951262185"
      ]
     },
     "execution_count": 29,
     "metadata": {},
     "output_type": "execute_result"
    }
   ],
   "source": [
    "grid_search_large.score(X_test, y_test)"
   ]
  },
  {
   "cell_type": "code",
   "execution_count": 30,
   "id": "contrary-collector",
   "metadata": {},
   "outputs": [
    {
     "data": {
      "text/plain": [
       "Pipeline(steps=[('bow_extractor', BoWExtractor(num_words=10000)),\n",
       "                ('scaler', StandardScaler(with_mean=False)),\n",
       "                ('regression',\n",
       "                 LogisticRegression(n_jobs=-1, random_state=42,\n",
       "                                    solver='saga'))])"
      ]
     },
     "execution_count": 30,
     "metadata": {},
     "output_type": "execute_result"
    }
   ],
   "source": [
    "grid_search_large.best_estimator_"
   ]
  },
  {
   "cell_type": "code",
   "execution_count": 31,
   "id": "medical-constitution",
   "metadata": {},
   "outputs": [
    {
     "name": "stdout",
     "output_type": "stream",
     "text": [
      "Fitting 3 folds for each of 2 candidates, totalling 6 fits\n"
     ]
    },
    {
     "name": "stderr",
     "output_type": "stream",
     "text": [
      "/home/chelmney/miniconda3/envs/bundestag_party_prediction/lib/python3.10/site-packages/sklearn/linear_model/_sag.py:352: ConvergenceWarning: The max_iter was reached which means the coef_ did not converge\n",
      "  warnings.warn(\n"
     ]
    },
    {
     "name": "stdout",
     "output_type": "stream",
     "text": [
      "[CV 1/3] END bow_extractor__num_words=15000, regression__max_iter=250;, score=0.529 total time= 3.2min\n"
     ]
    },
    {
     "name": "stderr",
     "output_type": "stream",
     "text": [
      "/home/chelmney/miniconda3/envs/bundestag_party_prediction/lib/python3.10/site-packages/sklearn/linear_model/_sag.py:352: ConvergenceWarning: The max_iter was reached which means the coef_ did not converge\n",
      "  warnings.warn(\n"
     ]
    },
    {
     "name": "stdout",
     "output_type": "stream",
     "text": [
      "[CV 2/3] END bow_extractor__num_words=15000, regression__max_iter=250;, score=0.529 total time= 3.3min\n"
     ]
    },
    {
     "name": "stderr",
     "output_type": "stream",
     "text": [
      "/home/chelmney/miniconda3/envs/bundestag_party_prediction/lib/python3.10/site-packages/sklearn/linear_model/_sag.py:352: ConvergenceWarning: The max_iter was reached which means the coef_ did not converge\n",
      "  warnings.warn(\n"
     ]
    },
    {
     "name": "stdout",
     "output_type": "stream",
     "text": [
      "[CV 3/3] END bow_extractor__num_words=15000, regression__max_iter=250;, score=0.518 total time= 3.3min\n"
     ]
    },
    {
     "name": "stderr",
     "output_type": "stream",
     "text": [
      "/home/chelmney/miniconda3/envs/bundestag_party_prediction/lib/python3.10/site-packages/sklearn/linear_model/_sag.py:352: ConvergenceWarning: The max_iter was reached which means the coef_ did not converge\n",
      "  warnings.warn(\n"
     ]
    },
    {
     "name": "stdout",
     "output_type": "stream",
     "text": [
      "[CV 1/3] END bow_extractor__num_words=30000, regression__max_iter=250;, score=0.524 total time= 3.7min\n"
     ]
    },
    {
     "name": "stderr",
     "output_type": "stream",
     "text": [
      "/home/chelmney/miniconda3/envs/bundestag_party_prediction/lib/python3.10/site-packages/sklearn/linear_model/_sag.py:352: ConvergenceWarning: The max_iter was reached which means the coef_ did not converge\n",
      "  warnings.warn(\n"
     ]
    },
    {
     "name": "stdout",
     "output_type": "stream",
     "text": [
      "[CV 2/3] END bow_extractor__num_words=30000, regression__max_iter=250;, score=0.521 total time= 3.6min\n"
     ]
    },
    {
     "name": "stderr",
     "output_type": "stream",
     "text": [
      "/home/chelmney/miniconda3/envs/bundestag_party_prediction/lib/python3.10/site-packages/sklearn/linear_model/_sag.py:352: ConvergenceWarning: The max_iter was reached which means the coef_ did not converge\n",
      "  warnings.warn(\n"
     ]
    },
    {
     "name": "stdout",
     "output_type": "stream",
     "text": [
      "[CV 3/3] END bow_extractor__num_words=30000, regression__max_iter=250;, score=0.522 total time= 3.6min\n"
     ]
    },
    {
     "name": "stderr",
     "output_type": "stream",
     "text": [
      "/home/chelmney/miniconda3/envs/bundestag_party_prediction/lib/python3.10/site-packages/sklearn/linear_model/_sag.py:352: ConvergenceWarning: The max_iter was reached which means the coef_ did not converge\n",
      "  warnings.warn(\n"
     ]
    },
    {
     "data": {
      "text/plain": [
       "GridSearchCV(cv=3, error_score='raise',\n",
       "             estimator=Pipeline(steps=[('bow_extractor',\n",
       "                                        BoWExtractor(num_words=1000)),\n",
       "                                       ('scaler',\n",
       "                                        StandardScaler(with_mean=False)),\n",
       "                                       ('regression',\n",
       "                                        LogisticRegression(n_jobs=-1,\n",
       "                                                           random_state=42,\n",
       "                                                           solver='saga'))]),\n",
       "             param_grid=[{'bow_extractor__num_words': [15000, 30000],\n",
       "                          'regression__max_iter': [250]}],\n",
       "             scoring='accuracy', verbose=4)"
      ]
     },
     "execution_count": 31,
     "metadata": {},
     "output_type": "execute_result"
    }
   ],
   "source": [
    "from sklearn.model_selection import GridSearchCV\n",
    "\n",
    "param_grid_extra_large = [\n",
    "    {'bow_extractor__num_words': [15000, 30000], 'regression__max_iter': [250]}\n",
    "]\n",
    "\n",
    "grid_search_extra_large = GridSearchCV(bow_regression, param_grid_extra_large, cv=3, scoring='accuracy', verbose=4, error_score=\"raise\")\n",
    "grid_search_extra_large.fit(X_train, y_train)"
   ]
  },
  {
   "cell_type": "code",
   "execution_count": 32,
   "id": "intended-quantity",
   "metadata": {},
   "outputs": [
    {
     "data": {
      "text/plain": [
       "0.542714321419645"
      ]
     },
     "execution_count": 32,
     "metadata": {},
     "output_type": "execute_result"
    }
   ],
   "source": [
    "grid_search_extra_large.score(X_test, y_test)"
   ]
  },
  {
   "cell_type": "code",
   "execution_count": 33,
   "id": "eight-beads",
   "metadata": {},
   "outputs": [
    {
     "data": {
      "text/plain": [
       "Pipeline(steps=[('bow_extractor', BoWExtractor(num_words=15000)),\n",
       "                ('scaler', StandardScaler(with_mean=False)),\n",
       "                ('regression',\n",
       "                 LogisticRegression(max_iter=250, n_jobs=-1, random_state=42,\n",
       "                                    solver='saga'))])"
      ]
     },
     "execution_count": 33,
     "metadata": {},
     "output_type": "execute_result"
    }
   ],
   "source": [
    "grid_search_extra_large.best_estimator_"
   ]
  },
  {
   "cell_type": "code",
   "execution_count": 156,
   "id": "coordinated-closure",
   "metadata": {},
   "outputs": [
    {
     "name": "stdout",
     "output_type": "stream",
     "text": [
      "AfD\n",
      "[('afd', 1.0), ('2017', 0.35792163842883), ('2018', 0.3362380651399675), ('geehrte', 0.28932626843791454), ('migranten', 0.2770626671607219)]\n",
      "CDU/CSU\n",
      "[('verehrten', 1.0), ('herzlichen', 0.6972713331001529), ('kollegin', 0.646719929383217), ('christlich', 0.5802484729023203), ('deswegen', 0.47208639951792697)]\n",
      "FDP\n",
      "[('fdp', 1.0), ('liberale', 0.7570998162496498), ('demokraten', 0.5790383245459078), ('liberalen', 0.5614947263751957), ('liberaler', 0.3310119845534368)]\n",
      "GRUENE\n",
      "[('grüne', 1.0), ('endlich', 0.5260072130612787), ('danke', 0.4353191146727859), ('tatsächlich', 0.3877145377864926), ('gerade', 0.37882338712571106)]\n",
      "PDS/LINKE\n",
      "[('linke', 1.0), ('danke', 0.6823096086849794), ('pds', 0.5783482352365638), ('parl', 0.32310597995520934), ('nachfrage', 0.2646261272785214)]\n",
      "SPD\n",
      "[('sozialdemokraten', 1.0), ('kolleginnen', 0.6882111434706827), ('sozialdemokratinnen', 0.6027934833209199), ('liebe', 0.5323647992226893), ('bundestagsfraktion', 0.5034213541511187)]\n"
     ]
    }
   ],
   "source": [
    "hand_engineered_feats = list(X.drop(columns=['text']).columns)\n",
    "bow_feats = list(grid_search_extra_large.best_estimator_[\"bow_extractor\"].vectorizer.get_feature_names_out())\n",
    "feats_ordered = hand_engineered_feats + bow_feats\n",
    "\n",
    "classes_ordered = grid_search_extra_large.best_estimator_[\"regression\"].classes_\n",
    "coefs_per_party = dict()\n",
    "for (i, cl) in enumerate(classes_ordered):\n",
    "    print(cl)\n",
    "    coefs = grid_search_extra_large.best_estimator_[\"regression\"].coef_[i]\n",
    "    bow_coefs = coefs[len(hand_engineered_feats):]\n",
    "    coefs_per_party[cl] = [(bow_feats[idx], bow_coefs[idx]) for idx in np.argsort(-bow_coefs)][:20]\n",
    "    max_coef = coefs_per_party[cl][0][1]\n",
    "    coefs_per_party[cl] = [(party, coef / max_coef) for (party, coef) in coefs_per_party[cl]]\n",
    "    print(coefs_per_party[cl][:5])\n",
    "\n",
    "import json\n",
    "with open('log_reg_coefs.json', 'w') as fp:\n",
    "    json.dump(coefs_per_party, fp)"
   ]
  },
  {
   "cell_type": "code",
   "execution_count": 34,
   "id": "approximate-checkout",
   "metadata": {},
   "outputs": [],
   "source": [
    "y_test_pred = grid_search_extra_large.predict(X_test)"
   ]
  },
  {
   "cell_type": "code",
   "execution_count": 35,
   "id": "exotic-editor",
   "metadata": {},
   "outputs": [
    {
     "data": {
      "text/plain": [
       "array([[5111,   39, 1166,  137,  121,    0],\n",
       "       [ 546,  886,  481,   36,  210,    2],\n",
       "       [2011,   63, 3237,   94,  193,    0],\n",
       "       [1276,   22,  561,  621,  103,    2],\n",
       "       [ 909,  101,  891,   42,  995,    0],\n",
       "       [  79,   22,   20,    7,   14,    7]])"
      ]
     },
     "execution_count": 35,
     "metadata": {},
     "output_type": "execute_result"
    }
   ],
   "source": [
    "from sklearn.metrics import confusion_matrix\n",
    "parties = y.unique()\n",
    "conf_mat = confusion_matrix(y_test, y_test_pred, labels=parties)\n",
    "conf_mat"
   ]
  },
  {
   "cell_type": "code",
   "execution_count": 118,
   "id": "authentic-cylinder",
   "metadata": {},
   "outputs": [
    {
     "data": {
      "image/png": "[encoded data removed]",
      "text/plain": [
       "<Figure size 432x432 with 2 Axes>"
      ]
     },
     "metadata": {},
     "output_type": "display_data"
    }
   ],
   "source": [
    "import seaborn as sns\n",
    "\n",
    "plt.rcParams[\"text.usetex\"] = False\n",
    "\n",
    "def plot_confusion_matrix(conf_mat, title, filename):\n",
    "    fig, ax = plt.subplots(1, 1, figsize=(6, 6))\n",
    "    normalized_cm = conf_mat / conf_mat.sum(axis=1)[:, np.newaxis]\n",
    "    ax = sns.heatmap(normalized_cm, annot=True, fmt='.1%', ax=ax, vmin=0, vmax=1)\n",
    "    cbar = ax.collections[0].colorbar\n",
    "    cbar.set_ticks([0, .25, 0.5, .75, 1])\n",
    "    cbar.set_ticklabels(['0%', '25%', '50%', '75%', '100%'])\n",
    "    ax.set_xlabel('Predicted label');ax.set_ylabel('True label')\n",
    "    ax.set_title(title); \n",
    "    ax.xaxis.set_ticklabels(parties); ax.yaxis.set_ticklabels(parties)\n",
    "    fig.savefig(filename)\n",
    "\n",
    "plot_confusion_matrix(conf_mat, 'Confusion Matrix (naive)', \"confusion_matrix_naive.pdf\")"
   ]
  },
  {
   "cell_type": "code",
   "execution_count": 37,
   "id": "deadly-expansion",
   "metadata": {},
   "outputs": [
    {
     "data": {
      "text/plain": [
       "[('CDU/CSU', 0.7774566473988439),\n",
       " ('PDS/LINKE', 0.4099953725127256),\n",
       " ('SPD', 0.5782422293676313),\n",
       " ('FDP', 0.2402321083172147),\n",
       " ('GRUENE', 0.33866575901974133),\n",
       " ('AfD', 0.04697986577181208)]"
      ]
     },
     "execution_count": 37,
     "metadata": {},
     "output_type": "execute_result"
    }
   ],
   "source": [
    "def get_class_accuracies(conf_mat):\n",
    "    return conf_mat.diagonal() / conf_mat.sum(axis = 1)\n",
    "\n",
    "list(zip(parties, get_class_accuracies(conf_mat)))"
   ]
  },
  {
   "cell_type": "markdown",
   "id": "honest-atlas",
   "metadata": {},
   "source": [
    "Hand-engineered features only"
   ]
  },
  {
   "cell_type": "code",
   "execution_count": 38,
   "id": "hazardous-consumption",
   "metadata": {},
   "outputs": [],
   "source": [
    "class TextDropper(BaseEstimator, TransformerMixin):\n",
    "    def __init__(self):\n",
    "        pass\n",
    "        \n",
    "    def fit(self, X, y=None):\n",
    "        return self\n",
    "\n",
    "    def transform(self, X):\n",
    "        X = X.drop(columns=[\"text\"])\n",
    "        X = X.to_numpy()\n",
    "\n",
    "        return X\n",
    "\n",
    "hand_engineered_regression = Pipeline([\n",
    "    ('text_dropper', TextDropper()),\n",
    "    ('scaler', StandardScaler()),\n",
    "    ('regression', LogisticRegression(solver='liblinear', max_iter=300, random_state=42)),\n",
    "])"
   ]
  },
  {
   "cell_type": "code",
   "execution_count": 39,
   "id": "oriented-tampa",
   "metadata": {},
   "outputs": [
    {
     "data": {
      "text/plain": [
       "0.3412146963259185"
      ]
     },
     "execution_count": 39,
     "metadata": {},
     "output_type": "execute_result"
    }
   ],
   "source": [
    "hand_engineered_regression.fit(X_train, y_train)\n",
    "hand_engineered_regression.score(X_test, y_test)"
   ]
  },
  {
   "cell_type": "code",
   "execution_count": 40,
   "id": "secret-mileage",
   "metadata": {},
   "outputs": [],
   "source": [
    "class BoWOnlyExtractor(BaseEstimator, TransformerMixin):\n",
    "    def __init__(self, num_words, max_df=0.5):\n",
    "        self.num_words = num_words\n",
    "        self.max_df = max_df\n",
    "        \n",
    "    def fit(self, X, y=None):\n",
    "        self.vectorizer = CountVectorizer(analyzer=\"word\", stop_words=None, tokenizer=None, preprocessor=None, max_features=self.num_words, max_df=self.max_df) # max_df and min_df might be worth checking out later\n",
    "        self.vectorizer.fit(X[\"text\"])\n",
    "        return self\n",
    "\n",
    "    def transform(self, X):\n",
    "        bow = self.vectorizer.transform(X[\"text\"])\n",
    "        return bow\n",
    "    \n",
    "bow_only_regression = Pipeline([\n",
    "    ('bow_extractor', BoWOnlyExtractor(num_words=15000)),\n",
    "    ('scaler', StandardScaler(with_mean=False)),\n",
    "    ('regression', LogisticRegression(solver='saga', random_state=42, n_jobs=-1, max_iter=250)),\n",
    "])"
   ]
  },
  {
   "cell_type": "code",
   "execution_count": 41,
   "id": "amazing-wyoming",
   "metadata": {},
   "outputs": [
    {
     "name": "stderr",
     "output_type": "stream",
     "text": [
      "/home/chelmney/miniconda3/envs/bundestag_party_prediction/lib/python3.10/site-packages/sklearn/linear_model/_sag.py:352: ConvergenceWarning: The max_iter was reached which means the coef_ did not converge\n",
      "  warnings.warn(\n"
     ]
    },
    {
     "data": {
      "text/plain": [
       "0.5378155461134716"
      ]
     },
     "execution_count": 41,
     "metadata": {},
     "output_type": "execute_result"
    }
   ],
   "source": [
    "bow_only_regression.fit(X_train, y_train)\n",
    "bow_only_regression.score(X_test, y_test)"
   ]
  },
  {
   "cell_type": "markdown",
   "id": "bulgarian-latex",
   "metadata": {},
   "source": [
    "# Class-weighted Logistic Regression"
   ]
  },
  {
   "cell_type": "code",
   "execution_count": 42,
   "id": "incredible-tiger",
   "metadata": {},
   "outputs": [
    {
     "name": "stderr",
     "output_type": "stream",
     "text": [
      "/home/chelmney/miniconda3/envs/bundestag_party_prediction/lib/python3.10/site-packages/sklearn/linear_model/_sag.py:352: ConvergenceWarning: The max_iter was reached which means the coef_ did not converge\n",
      "  warnings.warn(\n"
     ]
    },
    {
     "data": {
      "text/plain": [
       "0.5019745063734067"
      ]
     },
     "execution_count": 42,
     "metadata": {},
     "output_type": "execute_result"
    }
   ],
   "source": [
    "from sklearn.metrics import accuracy_score\n",
    "\n",
    "bow_regression_fair = Pipeline([\n",
    "    ('bow_extractor', BoWExtractor(num_words=15000)),\n",
    "    ('scaler', StandardScaler(with_mean=False)),\n",
    "    ('regression', LogisticRegression(solver='saga', random_state=42, n_jobs=-1, max_iter=250, class_weight=\"balanced\")),\n",
    "])\n",
    "\n",
    "bow_regression_fair.fit(X_train, y_train)\n",
    "y_test_pred_fair = bow_regression_fair.predict(X_test)\n",
    "accuracy_score(y_test, y_test_pred_fair)"
   ]
  },
  {
   "cell_type": "code",
   "execution_count": 119,
   "id": "turkish-bunch",
   "metadata": {},
   "outputs": [
    {
     "data": {
      "image/png": "[encoded data removed]",
      "text/plain": [
       "<Figure size 432x432 with 2 Axes>"
      ]
     },
     "metadata": {},
     "output_type": "display_data"
    }
   ],
   "source": [
    "conf_mat_fair = confusion_matrix(y_test, y_test_pred_fair, labels=parties)\n",
    "plot_confusion_matrix(conf_mat_fair, 'Confusion Matrix (fair)', 'confusion_matrix_fair.pdf')"
   ]
  },
  {
   "cell_type": "code",
   "execution_count": 150,
   "id": "happy-document",
   "metadata": {},
   "outputs": [
    {
     "data": {
      "image/png": "[encoded data removed]",
      "text/plain": [
       "<Figure size 432x288 with 3 Axes>"
      ]
     },
     "metadata": {},
     "output_type": "display_data"
    }
   ],
   "source": [
    "from tueplots import figsizes\n",
    "\n",
    "def plot_confusion_matrix_side_by_side(conf_mat_A, conf_mat_B, title_A, title_B, filename):\n",
    "    plt.rcParams.update(figsizes.neurips2021(ncols=2))\n",
    "    fig, axs = plt.subplots(1, 2, figsize=(6, 4))\n",
    "    annots = [\"a)\", \"b)\"]\n",
    "    for (i, (conf_mat, title)) in enumerate(zip([conf_mat_A, conf_mat_B], [title_A, title_B])):\n",
    "        normalized_cm = conf_mat / conf_mat.sum(axis=1)[:, np.newaxis]\n",
    "        ax = axs[i]\n",
    "        use_cbar = (i == 1)\n",
    "        ax = sns.heatmap(normalized_cm, annot=True, fmt='.1%', ax=ax, vmin=0, vmax=1, cbar=use_cbar, annot_kws={\"size\": 6})\n",
    "        ax.text(0, -0.15, annots[i])\n",
    "        if use_cbar:\n",
    "            cbar = ax.collections[0].colorbar\n",
    "            cbar.set_ticks([0, .25, 0.5, .75, 1])\n",
    "            cbar.set_ticklabels(['0%', '25%', '50%', '75%', '100%'])\n",
    "        ax.set_xlabel('Predicted label')\n",
    "        if i == 0:\n",
    "            ax.set_ylabel('True label')\n",
    "        ax.set_title(title); \n",
    "        ax.xaxis.set_ticklabels(parties, rotation=45); ax.yaxis.set_ticklabels(parties)\n",
    "    fig.savefig(filename)\n",
    "    \n",
    "plot_confusion_matrix_side_by_side(conf_mat, conf_mat_fair, 'Naive', 'Fair', 'confusion_matrix_naive_vs_fair.pdf')"
   ]
  },
  {
   "cell_type": "code",
   "execution_count": 44,
   "id": "vertical-ceramic",
   "metadata": {
    "scrolled": true
   },
   "outputs": [
    {
     "data": {
      "text/plain": [
       "[('CDU/CSU', 0.4841801034377852),\n",
       " ('PDS/LINKE', 0.5844516427579824),\n",
       " ('SPD', 0.47642015005359056),\n",
       " ('FDP', 0.49361702127659574),\n",
       " ('GRUENE', 0.5255275697753574),\n",
       " ('AfD', 0.7315436241610739)]"
      ]
     },
     "execution_count": 44,
     "metadata": {},
     "output_type": "execute_result"
    }
   ],
   "source": [
    "list(zip(parties, get_class_accuracies(conf_mat_fair)))"
   ]
  },
  {
   "cell_type": "code",
   "execution_count": 45,
   "id": "relative-automation",
   "metadata": {},
   "outputs": [
    {
     "data": {
      "image/png": "[encoded data removed]",
      "text/plain": [
       "<Figure size 720x720 with 2 Axes>"
      ]
     },
     "metadata": {
      "needs_background": "light"
     },
     "output_type": "display_data"
    }
   ],
   "source": [
    "def get_similarities(conf_mat):\n",
    "    normalized_cm = conf_mat / conf_mat.sum(axis=1)[:, np.newaxis]\n",
    "    return normalized_cm.T + normalized_cm\n",
    "\n",
    "sim_matrix_fair = get_similarities(conf_mat_fair)\n",
    "plot_confusion_matrix(sim_matrix_fair)"
   ]
  },
  {
   "cell_type": "markdown",
   "id": "creative-listening",
   "metadata": {},
   "source": [
    "# With PCA"
   ]
  },
  {
   "cell_type": "code",
   "execution_count": 152,
   "id": "tight-participant",
   "metadata": {},
   "outputs": [
    {
     "name": "stdout",
     "output_type": "stream",
     "text": [
      "Fitting 3 folds for each of 3 candidates, totalling 9 fits\n",
      "[Pipeline] ..... (step 1 of 4) Processing bow_extractor, total=  38.3s\n",
      "[Pipeline] ........ (step 2 of 4) Processing decomposer, total=   3.9s\n",
      "[Pipeline] ............ (step 3 of 4) Processing scaler, total=   0.0s\n"
     ]
    },
    {
     "name": "stderr",
     "output_type": "stream",
     "text": [
      "/home/chelmney/miniconda3/envs/bundestag_party_prediction/lib/python3.10/site-packages/sklearn/linear_model/_sag.py:352: ConvergenceWarning: The max_iter was reached which means the coef_ did not converge\n",
      "  warnings.warn(\n"
     ]
    },
    {
     "name": "stdout",
     "output_type": "stream",
     "text": [
      "[Pipeline] ........ (step 4 of 4) Processing regression, total=  23.6s\n",
      "[CV 1/3] END .......decomposer__n_components=10;, score=0.172 total time= 1.3min\n",
      "[Pipeline] ..... (step 1 of 4) Processing bow_extractor, total=  36.9s\n",
      "[Pipeline] ........ (step 2 of 4) Processing decomposer, total=   3.9s\n",
      "[Pipeline] ............ (step 3 of 4) Processing scaler, total=   0.0s\n"
     ]
    },
    {
     "name": "stderr",
     "output_type": "stream",
     "text": [
      "/home/chelmney/miniconda3/envs/bundestag_party_prediction/lib/python3.10/site-packages/sklearn/linear_model/_sag.py:352: ConvergenceWarning: The max_iter was reached which means the coef_ did not converge\n",
      "  warnings.warn(\n"
     ]
    },
    {
     "name": "stdout",
     "output_type": "stream",
     "text": [
      "[Pipeline] ........ (step 4 of 4) Processing regression, total=  22.4s\n",
      "[CV 2/3] END .......decomposer__n_components=10;, score=0.177 total time= 1.2min\n",
      "[Pipeline] ..... (step 1 of 4) Processing bow_extractor, total=  37.2s\n",
      "[Pipeline] ........ (step 2 of 4) Processing decomposer, total=   3.9s\n",
      "[Pipeline] ............ (step 3 of 4) Processing scaler, total=   0.0s\n",
      "[Pipeline] ........ (step 4 of 4) Processing regression, total=  20.0s\n",
      "[CV 3/3] END .......decomposer__n_components=10;, score=0.189 total time= 1.2min\n",
      "[Pipeline] ..... (step 1 of 4) Processing bow_extractor, total=  38.8s\n",
      "[Pipeline] ........ (step 2 of 4) Processing decomposer, total=  27.1s\n",
      "[Pipeline] ............ (step 3 of 4) Processing scaler, total=   0.1s\n"
     ]
    },
    {
     "name": "stderr",
     "output_type": "stream",
     "text": [
      "/home/chelmney/miniconda3/envs/bundestag_party_prediction/lib/python3.10/site-packages/sklearn/linear_model/_sag.py:352: ConvergenceWarning: The max_iter was reached which means the coef_ did not converge\n",
      "  warnings.warn(\n"
     ]
    },
    {
     "name": "stdout",
     "output_type": "stream",
     "text": [
      "[Pipeline] ........ (step 4 of 4) Processing regression, total= 1.5min\n",
      "[CV 1/3] END ......decomposer__n_components=100;, score=0.301 total time= 2.8min\n",
      "[Pipeline] ..... (step 1 of 4) Processing bow_extractor, total=  37.2s\n",
      "[Pipeline] ........ (step 2 of 4) Processing decomposer, total=  28.0s\n",
      "[Pipeline] ............ (step 3 of 4) Processing scaler, total=   0.1s\n"
     ]
    },
    {
     "name": "stderr",
     "output_type": "stream",
     "text": [
      "/home/chelmney/miniconda3/envs/bundestag_party_prediction/lib/python3.10/site-packages/sklearn/linear_model/_sag.py:352: ConvergenceWarning: The max_iter was reached which means the coef_ did not converge\n",
      "  warnings.warn(\n"
     ]
    },
    {
     "name": "stdout",
     "output_type": "stream",
     "text": [
      "[Pipeline] ........ (step 4 of 4) Processing regression, total= 1.6min\n",
      "[CV 2/3] END ......decomposer__n_components=100;, score=0.301 total time= 2.8min\n",
      "[Pipeline] ..... (step 1 of 4) Processing bow_extractor, total=  41.2s\n",
      "[Pipeline] ........ (step 2 of 4) Processing decomposer, total=  26.6s\n",
      "[Pipeline] ............ (step 3 of 4) Processing scaler, total=   0.1s\n"
     ]
    },
    {
     "name": "stderr",
     "output_type": "stream",
     "text": [
      "/home/chelmney/miniconda3/envs/bundestag_party_prediction/lib/python3.10/site-packages/sklearn/linear_model/_sag.py:352: ConvergenceWarning: The max_iter was reached which means the coef_ did not converge\n",
      "  warnings.warn(\n"
     ]
    },
    {
     "name": "stdout",
     "output_type": "stream",
     "text": [
      "[Pipeline] ........ (step 4 of 4) Processing regression, total= 1.5min\n",
      "[CV 3/3] END ......decomposer__n_components=100;, score=0.306 total time= 2.8min\n",
      "[Pipeline] ..... (step 1 of 4) Processing bow_extractor, total=  35.8s\n",
      "[Pipeline] ........ (step 2 of 4) Processing decomposer, total= 3.5min\n",
      "[Pipeline] ............ (step 3 of 4) Processing scaler, total=   0.9s\n"
     ]
    },
    {
     "name": "stderr",
     "output_type": "stream",
     "text": [
      "/home/chelmney/miniconda3/envs/bundestag_party_prediction/lib/python3.10/site-packages/sklearn/linear_model/_sag.py:352: ConvergenceWarning: The max_iter was reached which means the coef_ did not converge\n",
      "  warnings.warn(\n"
     ]
    },
    {
     "name": "stdout",
     "output_type": "stream",
     "text": [
      "[Pipeline] ........ (step 4 of 4) Processing regression, total=12.1min\n",
      "[CV 1/3] END .....decomposer__n_components=1000;, score=0.422 total time=16.5min\n",
      "[Pipeline] ..... (step 1 of 4) Processing bow_extractor, total=  35.4s\n",
      "[Pipeline] ........ (step 2 of 4) Processing decomposer, total= 3.5min\n",
      "[Pipeline] ............ (step 3 of 4) Processing scaler, total=   0.9s\n"
     ]
    },
    {
     "name": "stderr",
     "output_type": "stream",
     "text": [
      "/home/chelmney/miniconda3/envs/bundestag_party_prediction/lib/python3.10/site-packages/sklearn/linear_model/_sag.py:352: ConvergenceWarning: The max_iter was reached which means the coef_ did not converge\n",
      "  warnings.warn(\n"
     ]
    },
    {
     "name": "stdout",
     "output_type": "stream",
     "text": [
      "[Pipeline] ........ (step 4 of 4) Processing regression, total=12.1min\n",
      "[CV 2/3] END .....decomposer__n_components=1000;, score=0.424 total time=16.4min\n",
      "[Pipeline] ..... (step 1 of 4) Processing bow_extractor, total=  35.5s\n",
      "[Pipeline] ........ (step 2 of 4) Processing decomposer, total= 3.4min\n",
      "[Pipeline] ............ (step 3 of 4) Processing scaler, total=   0.9s\n"
     ]
    },
    {
     "name": "stderr",
     "output_type": "stream",
     "text": [
      "/home/chelmney/miniconda3/envs/bundestag_party_prediction/lib/python3.10/site-packages/sklearn/linear_model/_sag.py:352: ConvergenceWarning: The max_iter was reached which means the coef_ did not converge\n",
      "  warnings.warn(\n"
     ]
    },
    {
     "name": "stdout",
     "output_type": "stream",
     "text": [
      "[Pipeline] ........ (step 4 of 4) Processing regression, total=12.1min\n",
      "[CV 3/3] END .....decomposer__n_components=1000;, score=0.424 total time=16.4min\n",
      "[Pipeline] ..... (step 1 of 4) Processing bow_extractor, total=  51.5s\n",
      "[Pipeline] ........ (step 2 of 4) Processing decomposer, total= 5.0min\n",
      "[Pipeline] ............ (step 3 of 4) Processing scaler, total=   1.3s\n",
      "[Pipeline] ........ (step 4 of 4) Processing regression, total=18.1min\n"
     ]
    },
    {
     "name": "stderr",
     "output_type": "stream",
     "text": [
      "/home/chelmney/miniconda3/envs/bundestag_party_prediction/lib/python3.10/site-packages/sklearn/linear_model/_sag.py:352: ConvergenceWarning: The max_iter was reached which means the coef_ did not converge\n",
      "  warnings.warn(\n"
     ]
    },
    {
     "data": {
      "text/plain": [
       "GridSearchCV(cv=3, error_score='raise',\n",
       "             estimator=Pipeline(steps=[('bow_extractor',\n",
       "                                        BoWExtractor(num_words=15000)),\n",
       "                                       ('decomposer', TruncatedSVD()),\n",
       "                                       ('scaler',\n",
       "                                        StandardScaler(with_mean=False)),\n",
       "                                       ('regression',\n",
       "                                        LogisticRegression(class_weight='balanced',\n",
       "                                                           max_iter=250,\n",
       "                                                           n_jobs=-1,\n",
       "                                                           random_state=42,\n",
       "                                                           solver='saga'))],\n",
       "                                verbose=True),\n",
       "             param_grid=[{'decomposer__n_components': [10, 100, 1000]}],\n",
       "             scoring='accuracy', verbose=4)"
      ]
     },
     "execution_count": 152,
     "metadata": {},
     "output_type": "execute_result"
    }
   ],
   "source": [
    "from sklearn.decomposition import TruncatedSVD\n",
    "\n",
    "fair_regression_svd = Pipeline([\n",
    "    ('bow_extractor', BoWExtractor(num_words=15000)),\n",
    "    ('decomposer', TruncatedSVD()),\n",
    "    ('scaler', StandardScaler(with_mean=False)),\n",
    "    ('regression', LogisticRegression(solver='saga', random_state=42, n_jobs=-1, max_iter=250, class_weight=\"balanced\")),\n",
    "], verbose=True)\n",
    "\n",
    "param_grid_svd = [\n",
    "    {'decomposer__n_components': [10, 100, 1000]}\n",
    "]\n",
    "\n",
    "grid_search_svd = GridSearchCV(fair_regression_svd, param_grid_svd, cv=3, scoring='accuracy', verbose=4, error_score=\"raise\")\n",
    "grid_search_svd.fit(X_train, y_train)"
   ]
  },
  {
   "cell_type": "code",
   "execution_count": 153,
   "id": "australian-questionnaire",
   "metadata": {},
   "outputs": [
    {
     "data": {
      "text/plain": [
       "Pipeline(steps=[('bow_extractor', BoWExtractor(num_words=15000)),\n",
       "                ('decomposer', TruncatedSVD(n_components=1000)),\n",
       "                ('scaler', StandardScaler(with_mean=False)),\n",
       "                ('regression',\n",
       "                 LogisticRegression(class_weight='balanced', max_iter=250,\n",
       "                                    n_jobs=-1, random_state=42,\n",
       "                                    solver='saga'))],\n",
       "         verbose=True)"
      ]
     },
     "execution_count": 153,
     "metadata": {},
     "output_type": "execute_result"
    }
   ],
   "source": [
    "grid_search_svd.best_estimator_"
   ]
  },
  {
   "cell_type": "code",
   "execution_count": 183,
   "id": "approximate-activity",
   "metadata": {},
   "outputs": [
    {
     "data": {
      "text/html": [
       "<div>\n",
       "<style scoped>\n",
       "    .dataframe tbody tr th:only-of-type {\n",
       "        vertical-align: middle;\n",
       "    }\n",
       "\n",
       "    .dataframe tbody tr th {\n",
       "        vertical-align: top;\n",
       "    }\n",
       "\n",
       "    .dataframe thead th {\n",
       "        text-align: right;\n",
       "    }\n",
       "</style>\n",
       "<table border=\"1\" class=\"dataframe\">\n",
       "  <thead>\n",
       "    <tr style=\"text-align: right;\">\n",
       "      <th></th>\n",
       "      <th>party</th>\n",
       "      <th>chair</th>\n",
       "      <th>text</th>\n",
       "    </tr>\n",
       "  </thead>\n",
       "  <tbody>\n",
       "    <tr>\n",
       "      <th>0</th>\n",
       "      <td>CDU/CSU</td>\n",
       "      <td>False</td>\n",
       "      <td>das programm für stabilität und erneuerung gem...</td>\n",
       "    </tr>\n",
       "    <tr>\n",
       "      <th>1</th>\n",
       "      <td>SPD</td>\n",
       "      <td>False</td>\n",
       "      <td>unser zukunftsprogramm das zukunftsprogramm de...</td>\n",
       "    </tr>\n",
       "    <tr>\n",
       "      <th>2</th>\n",
       "      <td>FDP</td>\n",
       "      <td>False</td>\n",
       "      <td>nie gab es mehr zu tun wahlprogramm der wir si...</td>\n",
       "    </tr>\n",
       "    <tr>\n",
       "      <th>3</th>\n",
       "      <td>GRUENE</td>\n",
       "      <td>False</td>\n",
       "      <td>deutschland alles ist drin bundestagswahlprogr...</td>\n",
       "    </tr>\n",
       "    <tr>\n",
       "      <th>4</th>\n",
       "      <td>PDS/LINKE</td>\n",
       "      <td>False</td>\n",
       "      <td>zeit zu handeln für soziale sicherheit frieden...</td>\n",
       "    </tr>\n",
       "    <tr>\n",
       "      <th>5</th>\n",
       "      <td>AfD</td>\n",
       "      <td>False</td>\n",
       "      <td>programm der alternative für deutschland für d...</td>\n",
       "    </tr>\n",
       "  </tbody>\n",
       "</table>\n",
       "</div>"
      ],
      "text/plain": [
       "       party  chair                                               text\n",
       "0    CDU/CSU  False  das programm für stabilität und erneuerung gem...\n",
       "1        SPD  False  unser zukunftsprogramm das zukunftsprogramm de...\n",
       "2        FDP  False  nie gab es mehr zu tun wahlprogramm der wir si...\n",
       "3     GRUENE  False  deutschland alles ist drin bundestagswahlprogr...\n",
       "4  PDS/LINKE  False  zeit zu handeln für soziale sicherheit frieden...\n",
       "5        AfD  False  programm der alternative für deutschland für d..."
      ]
     },
     "execution_count": 183,
     "metadata": {},
     "output_type": "execute_result"
    }
   ],
   "source": [
    "with open('../data/raw/manifestos.json') as json_file:\n",
    "    data_manifestos = json.load(json_file)\n",
    "\n",
    "for party in data_manifestos:\n",
    "    data_manifestos[party] = \" \".join(data_manifestos[party])\n",
    "    \n",
    "party_name_map = {\n",
    "    'CDU': 'CDU/CSU',\n",
    "    'LINKE': 'PDS/LINKE',\n",
    "    'SPD': 'SPD',\n",
    "    'FDP': 'FDP',\n",
    "    'GRUENE': 'GRUENE',\n",
    "    'AFD': 'AfD'\n",
    "}\n",
    "\n",
    "data_manifestos = {party_name_map[party]: text for (party, text) in data_manifestos.items()}\n",
    "manifesto_parties = data_manifestos.keys()\n",
    "chairs = []\n",
    "texts = []\n",
    "for party in manifesto_parties:\n",
    "    texts.append(data_manifestos[party])\n",
    "    chairs.append(False)\n",
    "    \n",
    "manifesto_df_dict = {'party': manifesto_parties, 'chair': chairs, 'text': texts}\n",
    "manifesto_df = pd.DataFrame(manifesto_df_dict)\n",
    "manifesto_df.to_csv('../data/raw/manifestos.csv', index=False)\n",
    "manifesto_df"
   ]
  },
  {
   "cell_type": "code",
   "execution_count": 185,
   "id": "arbitrary-final",
   "metadata": {},
   "outputs": [
    {
     "data": {
      "text/html": [
       "<div>\n",
       "<style scoped>\n",
       "    .dataframe tbody tr th:only-of-type {\n",
       "        vertical-align: middle;\n",
       "    }\n",
       "\n",
       "    .dataframe tbody tr th {\n",
       "        vertical-align: top;\n",
       "    }\n",
       "\n",
       "    .dataframe thead th {\n",
       "        text-align: right;\n",
       "    }\n",
       "</style>\n",
       "<table border=\"1\" class=\"dataframe\">\n",
       "  <thead>\n",
       "    <tr style=\"text-align: right;\">\n",
       "      <th></th>\n",
       "      <th>party</th>\n",
       "      <th>chair</th>\n",
       "      <th>text</th>\n",
       "    </tr>\n",
       "  </thead>\n",
       "  <tbody>\n",
       "    <tr>\n",
       "      <th>0</th>\n",
       "      <td>CDU/CSU</td>\n",
       "      <td>False</td>\n",
       "      <td>das programm für stabilität und erneuerung gem...</td>\n",
       "    </tr>\n",
       "    <tr>\n",
       "      <th>1</th>\n",
       "      <td>SPD</td>\n",
       "      <td>False</td>\n",
       "      <td>unser zukunftsprogramm das zukunftsprogramm de...</td>\n",
       "    </tr>\n",
       "    <tr>\n",
       "      <th>2</th>\n",
       "      <td>FDP</td>\n",
       "      <td>False</td>\n",
       "      <td>nie gab es mehr zu tun wahlprogramm der wir si...</td>\n",
       "    </tr>\n",
       "    <tr>\n",
       "      <th>3</th>\n",
       "      <td>GRUENE</td>\n",
       "      <td>False</td>\n",
       "      <td>deutschland alles ist drin bundestagswahlprogr...</td>\n",
       "    </tr>\n",
       "    <tr>\n",
       "      <th>4</th>\n",
       "      <td>PDS/LINKE</td>\n",
       "      <td>False</td>\n",
       "      <td>zeit zu handeln für soziale sicherheit frieden...</td>\n",
       "    </tr>\n",
       "    <tr>\n",
       "      <th>5</th>\n",
       "      <td>AfD</td>\n",
       "      <td>False</td>\n",
       "      <td>programm der alternative für deutschland für d...</td>\n",
       "    </tr>\n",
       "  </tbody>\n",
       "</table>\n",
       "</div>"
      ],
      "text/plain": [
       "       party  chair                                               text\n",
       "0    CDU/CSU  False  das programm für stabilität und erneuerung gem...\n",
       "1        SPD  False  unser zukunftsprogramm das zukunftsprogramm de...\n",
       "2        FDP  False  nie gab es mehr zu tun wahlprogramm der wir si...\n",
       "3     GRUENE  False  deutschland alles ist drin bundestagswahlprogr...\n",
       "4  PDS/LINKE  False  zeit zu handeln für soziale sicherheit frieden...\n",
       "5        AfD  False  programm der alternative für deutschland für d..."
      ]
     },
     "execution_count": 185,
     "metadata": {},
     "output_type": "execute_result"
    }
   ],
   "source": [
    "manifesto_df = pd.read_csv('../data/raw/manifestos.csv')\n",
    "manifesto_df"
   ]
  },
  {
   "cell_type": "code",
   "execution_count": 194,
   "id": "automotive-business",
   "metadata": {},
   "outputs": [
    {
     "name": "stdout",
     "output_type": "stream",
     "text": [
      "[Pipeline] ..... (step 1 of 6) Processing chair_remover, total=   0.0s\n",
      "[Pipeline]  (step 2 of 6) Processing independent_party_remover, total=   0.0s\n",
      "[Pipeline]  (step 3 of 6) Processing commentary_remover, total=   0.0s\n",
      "[Pipeline]  (step 4 of 6) Processing special_chars_remover, total=   0.0s\n",
      "[Pipeline] . (step 5 of 6) Processing spelling_reformer, total=   0.0s\n",
      "[Pipeline]  (step 6 of 6) Processing double_fullstops_remover, total=   0.0s\n",
      "[Pipeline]  (step 1 of 12) Processing text_length_extractor, total=   0.0s\n",
      "[Pipeline]  (step 2 of 12) Processing avg_sentence_length_extractor, total=   0.0s\n",
      "[Pipeline]  (step 3 of 12) Processing num_exclamation_question_extractor, total=   0.0s\n",
      "[Pipeline]  (step 4 of 12) Processing readability_extractor, total=   0.6s\n",
      "[Pipeline] ........ (step 5 of 12) Processing tokenizer, total=   1.2s\n",
      "[Pipeline]  (step 6 of 12) Processing num_profanities_extractor, total=   0.7s\n",
      "[Pipeline] .... (step 7 of 12) Processing ttr_extractor, total=   0.0s\n",
      "[Pipeline]  (step 8 of 12) Processing sentiment_extractor, total=   0.1s\n",
      "[Pipeline]  (step 9 of 12) Processing avg_word_length_extractor, total=   0.0s\n",
      "[Pipeline]  (step 10 of 12) Processing stop_word_fraction_extractor, total=   0.5s\n",
      "[Pipeline]  (step 11 of 12) Processing stop_word_remover, total=   0.5s\n",
      "[Pipeline]  (step 12 of 12) Processing tfidf_score_extractor, total=   0.2s\n"
     ]
    }
   ],
   "source": [
    "from sklearn.pipeline import Pipeline\n",
    "from src.data.transformers.clean_text import *\n",
    "from src.data.transformers.extract_features import *\n",
    "\n",
    "\n",
    "cleaning_pipe = Pipeline(\n",
    "        [\n",
    "            (\"chair_remover\", RemoveChairTransformer()),\n",
    "            (\"independent_party_remover\", RemoveIndependentPartyTransformer()),\n",
    "            (\n",
    "                \"commentary_remover\",\n",
    "                RemoveCommentaryTransformer(remove_leftovers=True, verbose=True),\n",
    "            ),\n",
    "            (\"special_chars_remover\", RemoveSpecialCharacterTransformer()),\n",
    "            (\"spelling_reformer\", GermanSpellingReformTransformer()),\n",
    "            (\"double_fullstops_remover\", ReplaceDoubleFullstopsTransformer()),\n",
    "        ],\n",
    "        verbose=True,\n",
    "    )\n",
    "\n",
    "\n",
    "manifesto_data = cleaning_pipe.fit_transform(manifesto_df)\n",
    "manifesto_data.to_csv('../data/processed/manifestos_clean.csv')\n",
    "\n",
    "feature_pipe = Pipeline(\n",
    "        [\n",
    "            (\"text_length_extractor\", TextLengthExtractor()),\n",
    "            (\"avg_sentence_length_extractor\", AvgSentenceLengthExtractor()),\n",
    "            (\"num_exclamation_question_extractor\", NumExclamationQuestionExtractor()),\n",
    "            (\"readability_extractor\", ReadabilityExtractor()),\n",
    "            (\"tokenizer\", Tokenizer()),\n",
    "            (\"num_profanities_extractor\", NumOfProfanitiesExtractor()),\n",
    "            (\"ttr_extractor\", TTRExtractor()),\n",
    "            (\"sentiment_extractor\", SentimentExtractor()),\n",
    "            (\"avg_word_length_extractor\", AvgWordLengthExtractor()),\n",
    "            (\"stop_word_fraction_extractor\", StopWordFractionExtractor()),\n",
    "            (\"stop_word_remover\", StopWordRemover()),\n",
    "            (\"tfidf_score_extractor\", TfidfScoreExtractor()),\n",
    "        ],\n",
    "        verbose=True,\n",
    "    )\n",
    "\n",
    "manifesto_data = feature_pipe.fit_transform(manifesto_data)"
   ]
  },
  {
   "cell_type": "code",
   "execution_count": 195,
   "id": "numerical-dispatch",
   "metadata": {},
   "outputs": [
    {
     "data": {
      "text/html": [
       "<div>\n",
       "<style scoped>\n",
       "    .dataframe tbody tr th:only-of-type {\n",
       "        vertical-align: middle;\n",
       "    }\n",
       "\n",
       "    .dataframe tbody tr th {\n",
       "        vertical-align: top;\n",
       "    }\n",
       "\n",
       "    .dataframe thead th {\n",
       "        text-align: right;\n",
       "    }\n",
       "</style>\n",
       "<table border=\"1\" class=\"dataframe\">\n",
       "  <thead>\n",
       "    <tr style=\"text-align: right;\">\n",
       "      <th></th>\n",
       "      <th>index</th>\n",
       "      <th>party</th>\n",
       "      <th>chair</th>\n",
       "      <th>text</th>\n",
       "      <th>text_length</th>\n",
       "      <th>avg_sentence_length</th>\n",
       "      <th>relative_num_exclamations</th>\n",
       "      <th>relative_num_questions</th>\n",
       "      <th>readability</th>\n",
       "      <th>num_profanities</th>\n",
       "      <th>TTR</th>\n",
       "      <th>sentiment</th>\n",
       "      <th>avg_word_length</th>\n",
       "      <th>stop_word_fraction</th>\n",
       "      <th>avg_tfidf</th>\n",
       "    </tr>\n",
       "  </thead>\n",
       "  <tbody>\n",
       "    <tr>\n",
       "      <th>0</th>\n",
       "      <td>0</td>\n",
       "      <td>CDU/CSU</td>\n",
       "      <td>False</td>\n",
       "      <td>programm stabilität erneuerung gemeinsam moder...</td>\n",
       "      <td>326762</td>\n",
       "      <td>326762.0</td>\n",
       "      <td>0.0</td>\n",
       "      <td>0.0</td>\n",
       "      <td>-42938.71</td>\n",
       "      <td>0</td>\n",
       "      <td>0.191626</td>\n",
       "      <td>0.044429</td>\n",
       "      <td>6.600907</td>\n",
       "      <td>0.465294</td>\n",
       "      <td>0.001524</td>\n",
       "    </tr>\n",
       "    <tr>\n",
       "      <th>1</th>\n",
       "      <td>1</td>\n",
       "      <td>SPD</td>\n",
       "      <td>False</td>\n",
       "      <td>zukunftsprogramm zukunftsprogramm spd wofür st...</td>\n",
       "      <td>179304</td>\n",
       "      <td>179304.0</td>\n",
       "      <td>0.0</td>\n",
       "      <td>0.0</td>\n",
       "      <td>-23740.71</td>\n",
       "      <td>0</td>\n",
       "      <td>0.232347</td>\n",
       "      <td>0.037783</td>\n",
       "      <td>6.536357</td>\n",
       "      <td>0.465198</td>\n",
       "      <td>0.001340</td>\n",
       "    </tr>\n",
       "    <tr>\n",
       "      <th>2</th>\n",
       "      <td>2</td>\n",
       "      <td>FDP</td>\n",
       "      <td>False</td>\n",
       "      <td>nie gab mehr tun wahlprogramm freie demokraten...</td>\n",
       "      <td>287612</td>\n",
       "      <td>287612.0</td>\n",
       "      <td>0.0</td>\n",
       "      <td>0.0</td>\n",
       "      <td>-37373.71</td>\n",
       "      <td>3</td>\n",
       "      <td>0.215738</td>\n",
       "      <td>0.021774</td>\n",
       "      <td>6.685050</td>\n",
       "      <td>0.431743</td>\n",
       "      <td>0.000821</td>\n",
       "    </tr>\n",
       "    <tr>\n",
       "      <th>3</th>\n",
       "      <td>3</td>\n",
       "      <td>GRUENE</td>\n",
       "      <td>False</td>\n",
       "      <td>deutschland drin bundestagswahlprogramm bereit...</td>\n",
       "      <td>533299</td>\n",
       "      <td>533299.0</td>\n",
       "      <td>0.0</td>\n",
       "      <td>0.0</td>\n",
       "      <td>-71289.71</td>\n",
       "      <td>0</td>\n",
       "      <td>0.164239</td>\n",
       "      <td>0.027298</td>\n",
       "      <td>6.475365</td>\n",
       "      <td>0.435612</td>\n",
       "      <td>0.001142</td>\n",
       "    </tr>\n",
       "    <tr>\n",
       "      <th>4</th>\n",
       "      <td>4</td>\n",
       "      <td>PDS/LINKE</td>\n",
       "      <td>False</td>\n",
       "      <td>zeit handeln soziale sicherheit frieden klimag...</td>\n",
       "      <td>531018</td>\n",
       "      <td>531018.0</td>\n",
       "      <td>0.0</td>\n",
       "      <td>0.0</td>\n",
       "      <td>-71710.86</td>\n",
       "      <td>0</td>\n",
       "      <td>0.168710</td>\n",
       "      <td>-0.011497</td>\n",
       "      <td>6.399105</td>\n",
       "      <td>0.431780</td>\n",
       "      <td>0.001595</td>\n",
       "    </tr>\n",
       "    <tr>\n",
       "      <th>5</th>\n",
       "      <td>5</td>\n",
       "      <td>AfD</td>\n",
       "      <td>False</td>\n",
       "      <td>programm alternative deutschland wahl deutsche...</td>\n",
       "      <td>211393</td>\n",
       "      <td>211393.0</td>\n",
       "      <td>0.0</td>\n",
       "      <td>0.0</td>\n",
       "      <td>-26887.56</td>\n",
       "      <td>1</td>\n",
       "      <td>0.250139</td>\n",
       "      <td>-0.024452</td>\n",
       "      <td>6.848884</td>\n",
       "      <td>0.431330</td>\n",
       "      <td>0.001212</td>\n",
       "    </tr>\n",
       "  </tbody>\n",
       "</table>\n",
       "</div>"
      ],
      "text/plain": [
       "   index      party  chair                                               text  \\\n",
       "0      0    CDU/CSU  False  programm stabilität erneuerung gemeinsam moder...   \n",
       "1      1        SPD  False  zukunftsprogramm zukunftsprogramm spd wofür st...   \n",
       "2      2        FDP  False  nie gab mehr tun wahlprogramm freie demokraten...   \n",
       "3      3     GRUENE  False  deutschland drin bundestagswahlprogramm bereit...   \n",
       "4      4  PDS/LINKE  False  zeit handeln soziale sicherheit frieden klimag...   \n",
       "5      5        AfD  False  programm alternative deutschland wahl deutsche...   \n",
       "\n",
       "   text_length  avg_sentence_length  relative_num_exclamations  \\\n",
       "0       326762             326762.0                        0.0   \n",
       "1       179304             179304.0                        0.0   \n",
       "2       287612             287612.0                        0.0   \n",
       "3       533299             533299.0                        0.0   \n",
       "4       531018             531018.0                        0.0   \n",
       "5       211393             211393.0                        0.0   \n",
       "\n",
       "   relative_num_questions  readability  num_profanities       TTR  sentiment  \\\n",
       "0                     0.0    -42938.71                0  0.191626   0.044429   \n",
       "1                     0.0    -23740.71                0  0.232347   0.037783   \n",
       "2                     0.0    -37373.71                3  0.215738   0.021774   \n",
       "3                     0.0    -71289.71                0  0.164239   0.027298   \n",
       "4                     0.0    -71710.86                0  0.168710  -0.011497   \n",
       "5                     0.0    -26887.56                1  0.250139  -0.024452   \n",
       "\n",
       "   avg_word_length  stop_word_fraction  avg_tfidf  \n",
       "0         6.600907            0.465294   0.001524  \n",
       "1         6.536357            0.465198   0.001340  \n",
       "2         6.685050            0.431743   0.000821  \n",
       "3         6.475365            0.435612   0.001142  \n",
       "4         6.399105            0.431780   0.001595  \n",
       "5         6.848884            0.431330   0.001212  "
      ]
     },
     "execution_count": 195,
     "metadata": {},
     "output_type": "execute_result"
    }
   ],
   "source": [
    "manifesto_data"
   ]
  },
  {
   "cell_type": "code",
   "execution_count": 196,
   "id": "local-jungle",
   "metadata": {},
   "outputs": [
    {
     "data": {
      "text/html": [
       "<div>\n",
       "<style scoped>\n",
       "    .dataframe tbody tr th:only-of-type {\n",
       "        vertical-align: middle;\n",
       "    }\n",
       "\n",
       "    .dataframe tbody tr th {\n",
       "        vertical-align: top;\n",
       "    }\n",
       "\n",
       "    .dataframe thead th {\n",
       "        text-align: right;\n",
       "    }\n",
       "</style>\n",
       "<table border=\"1\" class=\"dataframe\">\n",
       "  <thead>\n",
       "    <tr style=\"text-align: right;\">\n",
       "      <th></th>\n",
       "      <th>index</th>\n",
       "      <th>party</th>\n",
       "      <th>chair</th>\n",
       "      <th>text</th>\n",
       "      <th>text_length</th>\n",
       "      <th>avg_sentence_length</th>\n",
       "      <th>relative_num_exclamations</th>\n",
       "      <th>relative_num_questions</th>\n",
       "      <th>readability</th>\n",
       "      <th>num_profanities</th>\n",
       "      <th>TTR</th>\n",
       "      <th>sentiment</th>\n",
       "      <th>avg_word_length</th>\n",
       "      <th>stop_word_fraction</th>\n",
       "      <th>avg_tfidf</th>\n",
       "    </tr>\n",
       "  </thead>\n",
       "  <tbody>\n",
       "    <tr>\n",
       "      <th>0</th>\n",
       "      <td>0</td>\n",
       "      <td>CDU/CSU</td>\n",
       "      <td>False</td>\n",
       "      <td>programm stabilität erneuerung gemeinsam moder...</td>\n",
       "      <td>2979.941222</td>\n",
       "      <td>121.763512</td>\n",
       "      <td>0.000413</td>\n",
       "      <td>0.000866</td>\n",
       "      <td>41.372986</td>\n",
       "      <td>0</td>\n",
       "      <td>0.191626</td>\n",
       "      <td>0.044429</td>\n",
       "      <td>6.600907</td>\n",
       "      <td>0.465294</td>\n",
       "      <td>0.001524</td>\n",
       "    </tr>\n",
       "    <tr>\n",
       "      <th>1</th>\n",
       "      <td>1</td>\n",
       "      <td>SPD</td>\n",
       "      <td>False</td>\n",
       "      <td>zukunftsprogramm zukunftsprogramm spd wofür st...</td>\n",
       "      <td>2979.941222</td>\n",
       "      <td>121.763512</td>\n",
       "      <td>0.000413</td>\n",
       "      <td>0.000866</td>\n",
       "      <td>41.372986</td>\n",
       "      <td>0</td>\n",
       "      <td>0.232347</td>\n",
       "      <td>0.037783</td>\n",
       "      <td>6.536357</td>\n",
       "      <td>0.465198</td>\n",
       "      <td>0.001340</td>\n",
       "    </tr>\n",
       "    <tr>\n",
       "      <th>2</th>\n",
       "      <td>2</td>\n",
       "      <td>FDP</td>\n",
       "      <td>False</td>\n",
       "      <td>nie gab mehr tun wahlprogramm freie demokraten...</td>\n",
       "      <td>2979.941222</td>\n",
       "      <td>121.763512</td>\n",
       "      <td>0.000413</td>\n",
       "      <td>0.000866</td>\n",
       "      <td>41.372986</td>\n",
       "      <td>3</td>\n",
       "      <td>0.215738</td>\n",
       "      <td>0.021774</td>\n",
       "      <td>6.685050</td>\n",
       "      <td>0.431743</td>\n",
       "      <td>0.000821</td>\n",
       "    </tr>\n",
       "    <tr>\n",
       "      <th>3</th>\n",
       "      <td>3</td>\n",
       "      <td>GRUENE</td>\n",
       "      <td>False</td>\n",
       "      <td>deutschland drin bundestagswahlprogramm bereit...</td>\n",
       "      <td>2979.941222</td>\n",
       "      <td>121.763512</td>\n",
       "      <td>0.000413</td>\n",
       "      <td>0.000866</td>\n",
       "      <td>41.372986</td>\n",
       "      <td>0</td>\n",
       "      <td>0.164239</td>\n",
       "      <td>0.027298</td>\n",
       "      <td>6.475365</td>\n",
       "      <td>0.435612</td>\n",
       "      <td>0.001142</td>\n",
       "    </tr>\n",
       "    <tr>\n",
       "      <th>4</th>\n",
       "      <td>4</td>\n",
       "      <td>PDS/LINKE</td>\n",
       "      <td>False</td>\n",
       "      <td>zeit handeln soziale sicherheit frieden klimag...</td>\n",
       "      <td>2979.941222</td>\n",
       "      <td>121.763512</td>\n",
       "      <td>0.000413</td>\n",
       "      <td>0.000866</td>\n",
       "      <td>41.372986</td>\n",
       "      <td>0</td>\n",
       "      <td>0.168710</td>\n",
       "      <td>-0.011497</td>\n",
       "      <td>6.399105</td>\n",
       "      <td>0.431780</td>\n",
       "      <td>0.001595</td>\n",
       "    </tr>\n",
       "    <tr>\n",
       "      <th>5</th>\n",
       "      <td>5</td>\n",
       "      <td>AfD</td>\n",
       "      <td>False</td>\n",
       "      <td>programm alternative deutschland wahl deutsche...</td>\n",
       "      <td>2979.941222</td>\n",
       "      <td>121.763512</td>\n",
       "      <td>0.000413</td>\n",
       "      <td>0.000866</td>\n",
       "      <td>41.372986</td>\n",
       "      <td>1</td>\n",
       "      <td>0.250139</td>\n",
       "      <td>-0.024452</td>\n",
       "      <td>6.848884</td>\n",
       "      <td>0.431330</td>\n",
       "      <td>0.001212</td>\n",
       "    </tr>\n",
       "  </tbody>\n",
       "</table>\n",
       "</div>"
      ],
      "text/plain": [
       "   index      party  chair                                               text  \\\n",
       "0      0    CDU/CSU  False  programm stabilität erneuerung gemeinsam moder...   \n",
       "1      1        SPD  False  zukunftsprogramm zukunftsprogramm spd wofür st...   \n",
       "2      2        FDP  False  nie gab mehr tun wahlprogramm freie demokraten...   \n",
       "3      3     GRUENE  False  deutschland drin bundestagswahlprogramm bereit...   \n",
       "4      4  PDS/LINKE  False  zeit handeln soziale sicherheit frieden klimag...   \n",
       "5      5        AfD  False  programm alternative deutschland wahl deutsche...   \n",
       "\n",
       "   text_length  avg_sentence_length  relative_num_exclamations  \\\n",
       "0  2979.941222           121.763512                   0.000413   \n",
       "1  2979.941222           121.763512                   0.000413   \n",
       "2  2979.941222           121.763512                   0.000413   \n",
       "3  2979.941222           121.763512                   0.000413   \n",
       "4  2979.941222           121.763512                   0.000413   \n",
       "5  2979.941222           121.763512                   0.000413   \n",
       "\n",
       "   relative_num_questions  readability  num_profanities       TTR  sentiment  \\\n",
       "0                0.000866    41.372986                0  0.191626   0.044429   \n",
       "1                0.000866    41.372986                0  0.232347   0.037783   \n",
       "2                0.000866    41.372986                3  0.215738   0.021774   \n",
       "3                0.000866    41.372986                0  0.164239   0.027298   \n",
       "4                0.000866    41.372986                0  0.168710  -0.011497   \n",
       "5                0.000866    41.372986                1  0.250139  -0.024452   \n",
       "\n",
       "   avg_word_length  stop_word_fraction  avg_tfidf  \n",
       "0         6.600907            0.465294   0.001524  \n",
       "1         6.536357            0.465198   0.001340  \n",
       "2         6.685050            0.431743   0.000821  \n",
       "3         6.475365            0.435612   0.001142  \n",
       "4         6.399105            0.431780   0.001595  \n",
       "5         6.848884            0.431330   0.001212  "
      ]
     },
     "execution_count": 196,
     "metadata": {},
     "output_type": "execute_result"
    }
   ],
   "source": [
    "cols_to_replace = [\"text_length\", \"avg_sentence_length\", \"relative_num_exclamations\", \"relative_num_questions\", \"readability\"]\n",
    "for col in cols_to_replace:\n",
    "    manifesto_data[col] = feats[col].mean()\n",
    "manifesto_data"
   ]
  },
  {
   "cell_type": "code",
   "execution_count": 201,
   "id": "signal-majority",
   "metadata": {},
   "outputs": [
    {
     "name": "stdout",
     "output_type": "stream",
     "text": [
      "Truth: CDU/CSU, predicted: CDU/CSU\n",
      "Truth: SPD, predicted: SPD\n",
      "Truth: FDP, predicted: FDP\n",
      "Truth: GRUENE, predicted: GRUENE\n",
      "Truth: PDS/LINKE, predicted: PDS/LINKE\n",
      "Truth: AfD, predicted: AfD\n",
      "Accuracy: 1.0\n"
     ]
    }
   ],
   "source": [
    "X_manifesto = manifesto_data.drop(columns=[\"index\", \"chair\"])\n",
    "y_manifesto = X_manifesto['party']\n",
    "X_manifesto = X_manifesto.drop(columns=['party'])\n",
    "X_manifesto.reset_index(drop=True, inplace=True)\n",
    "    \n",
    "y_manifesto_preds = bow_regression_fair.predict(X_manifesto)\n",
    "for (i, (truth, pred)) in enumerate(zip(y_manifesto, y_manifesto_preds)):\n",
    "    print(f\"Truth: {truth}, predicted: {pred}\")\n",
    "print(f\"Accuracy: {accuracy_score(y_manifesto_preds, y_manifesto)}\")"
   ]
  },
  {
   "cell_type": "markdown",
   "id": "understanding-agenda",
   "metadata": {},
   "source": [
    "# Latent Dirichlet Allocation"
   ]
  },
  {
   "cell_type": "code",
   "execution_count": null,
   "id": "voluntary-actor",
   "metadata": {},
   "outputs": [],
   "source": [
    "from sklearn.decomposition import LatentDirichletAllocation\n",
    "lda = LatentDirichletAllocation(n_components=200, max_iter=5)\n",
    "lda.fit(bow)"
   ]
  },
  {
   "cell_type": "code",
   "execution_count": null,
   "id": "golden-satellite",
   "metadata": {},
   "outputs": [],
   "source": [
    "lda_feats = lda.transform(bow)"
   ]
  },
  {
   "cell_type": "code",
   "execution_count": null,
   "id": "southwest-chrome",
   "metadata": {},
   "outputs": [],
   "source": [
    "lda_df = pd.DataFrame(lda_feats)\n",
    "lda_df = lda_df.add_prefix('lda_')\n",
    "lda_df.head()"
   ]
  }
 ],
 "metadata": {
  "kernelspec": {
   "display_name": "bundestag-env",
   "language": "python",
   "name": "bundestag-env"
  },
  "language_info": {
   "codemirror_mode": {
    "name": "ipython",
    "version": 3
   },
   "file_extension": ".py",
   "mimetype": "text/x-python",
   "name": "python",
   "nbconvert_exporter": "python",
   "pygments_lexer": "ipython3",
   "version": "3.10.2"
  }
 },
 "nbformat": 4,
 "nbformat_minor": 5
}
