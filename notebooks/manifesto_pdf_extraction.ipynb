{
 "cells": [
  {
   "cell_type": "code",
   "execution_count": 4,
   "id": "a08bf756",
   "metadata": {},
   "outputs": [],
   "source": [
    "import pdfplumber\n",
    "import re\n",
    "import nltk\n",
    "import json\n",
    "\n",
    "def custom_tokenize(text, language):\n",
    "    if not text:\n",
    "        text = ''\n",
    "    return nltk.word_tokenize(text, language)\n",
    "\n",
    "def manifesto(party):   \n",
    "    '''\n",
    "    input: party as string, among 'CDU', 'SPD', 'FDP', 'GRUENE', 'LINKE', 'AFD'\n",
    "    output: party manifesto of 2021 as a list of words (strings)\n",
    "    '''\n",
    "    path = \"./\"+party+\"_manifesto_2021.pdf\"\n",
    "    with pdfplumber.open(path) as pdf:\n",
    "        manifesto = []\n",
    "        for page in pdf.pages:\n",
    "            tmp_page_text = page.extract_text()\n",
    "            tokens = custom_tokenize(tmp_page_text, language='german')\n",
    "            tokens = [word.lower() for word in tokens if word.isalpha()]\n",
    "            manifesto.extend(tokens)\n",
    "    return manifesto\n",
    "\n",
    "parties = ['CDU', 'SPD', 'FDP', 'GRUENE', 'LINKE', 'AFD']\n",
    "d = {}\n",
    "for party in parties:\n",
    "    d[party] = manifesto(party)\n",
    "    \n",
    "with open('manifestos.json', 'w', encoding = 'utf8') as json_file:\n",
    "    json.dump(d, json_file, ensure_ascii = False)"
   ]
  }
 ],
 "metadata": {
  "kernelspec": {
   "display_name": "Python 3 (ipykernel)",
   "language": "python",
   "name": "python3"
  },
  "language_info": {
   "codemirror_mode": {
    "name": "ipython",
    "version": 3
   },
   "file_extension": ".py",
   "mimetype": "text/x-python",
   "name": "python",
   "nbconvert_exporter": "python",
   "pygments_lexer": "ipython3",
   "version": "3.9.10"
  }
 },
 "nbformat": 4,
 "nbformat_minor": 5
}
