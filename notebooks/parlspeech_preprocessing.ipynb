{
 "cells": [
  {
   "cell_type": "code",
   "execution_count": 1,
   "id": "1db0954a",
   "metadata": {},
   "outputs": [],
   "source": [
    "import re\n",
    "import pandas as pd\n",
    "from matplotlib import pyplot as plt"
   ]
  },
  {
   "cell_type": "code",
   "execution_count": 2,
   "id": "8008282d",
   "metadata": {},
   "outputs": [],
   "source": [
    "# Read .csv data.\n",
    "data = pd.read_csv(\"../data/raw/parlspeech_bundestag.csv\", parse_dates=['date'], low_memory=False)\n",
    "data = data.reset_index()"
   ]
  },
  {
   "cell_type": "code",
   "execution_count": 3,
   "id": "a09ca3d8",
   "metadata": {},
   "outputs": [
    {
     "data": {
      "text/plain": [
       "\"harmlost und den Bürgern mögliche Belastungen verschwiegen . . _ Ich wußte gar nicht , daß Sie in der Früh' schon so lebendig sind . _ (Struck [SPD] : Sie werden sich noch wundern , Herr Waigel ! _ Wieczorek [Duisburg] [SPD] : Wir sind doch keine Schlafmützen !) Das Gegenteil , meine Damen und Herren , läßt sich beweisen . . Ich habe in einer Ansprache vor dem Zentralausschuß der Deutschen Landwirtschaft am 14 . Februar 1990 folgendes gesagt : (Vogel [SPD] : Steuern werden nicht erhöht ! ) Die w\""
      ]
     },
     "execution_count": 3,
     "metadata": {},
     "output_type": "execute_result"
    }
   ],
   "source": [
    "# Discard entries where \"chair\" variable is True. These are not speeches by MPs.\n",
    "data = data[data['chair']==False]\n",
    "data.iloc[0].text[1000:1500]"
   ]
  },
  {
   "cell_type": "code",
   "execution_count": 4,
   "id": "d46f4233",
   "metadata": {},
   "outputs": [
    {
     "data": {
      "text/plain": [
       "'r Sie alles bekannt war , wie konnte dann ein so kluger Mann wie Ihr Kanzlerkandidat von einem guten Investitionsstandort sprechen ? Diesen Zwiespalt und Widerspruch in Ihrer Argumentation verstehe ich nicht . . Die Infrastruktur muß praktisch von Grund auf überholt werden . So ist das völlig überlastete Eisenbahnnetz in seiner Ausbauqualität sogar noch weit hinter den Stand von 1939 zurückgefallen . (Anhaltende Zurufe des Abg Duve [SPD]) _Frau Präsidentin , da muß ein Blähhals am Werke sein . .'"
      ]
     },
     "execution_count": 4,
     "metadata": {},
     "output_type": "execute_result"
    }
   ],
   "source": [
    "data.iloc[0].text[-500:]"
   ]
  },
  {
   "cell_type": "code",
   "execution_count": 5,
   "id": "b3b181d1",
   "metadata": {},
   "outputs": [
    {
     "data": {
      "text/plain": [
       "'Ich bedanke mich bei den Mitarbeitern der Verwaltung, beim Stenografischen Dienst und bei der Saalassistenz. Und jetzt haben Sie das letzte Wort. Ich bedanke mich und freue mich auf das nächste Jahr. Vielen Dank. – Bürgermeister überziehen halt etwas öfter; aber, Herr Präsident, Sie haben es im Griff.'"
      ]
     },
     "execution_count": 5,
     "metadata": {},
     "output_type": "execute_result"
    }
   ],
   "source": [
    "data.iloc[-1].text[-500:]"
   ]
  },
  {
   "cell_type": "code",
   "execution_count": 6,
   "id": "a9942573",
   "metadata": {},
   "outputs": [
    {
     "data": {
      "text/plain": [
       "'skutieren können. Es gibt auch Punkte, die ich gern ablehne. Aber ich denke, wir sind hier auf dem richtigen Weg, das Thema Fachkräfte entsprechend voranzutreiben, auch im sozialen Bereich. Abschließend wünsche ich Ihnen allen schöne Weihnachten und besinnliche Feiertage; denn Zeit zur Besinnung und Einsicht würde dem einen oder anderen nicht schaden. Zudem bedanke ich mich bei dieser Gelegenheit für in der Regel fair geführte Debatten in diesem Jahr – in der Regel – sowie beim Tagungspräsidium.'"
      ]
     },
     "execution_count": 6,
     "metadata": {},
     "output_type": "execute_result"
    }
   ],
   "source": [
    "data.iloc[-3].text[-500:]"
   ]
  },
  {
   "cell_type": "code",
   "execution_count": 7,
   "id": "733363c0",
   "metadata": {},
   "outputs": [
    {
     "data": {
      "text/plain": [
       "'en. Wir haben gehört: Auch die Fallzahlen in der Kinder- und Jugendhilfe sind gestiegen. Im Koalitionsvertrag stehen noch viele andere gute Dinge. Das zeigt natürlich, dass wir Fachkräfte benötigen. Ich selber war Bürgermeister. In dieser Zeit habe ich gemerkt: Wenn man engagiert ist und qualifiziertes Personal haben will, ist es sehr schwierig. Dennoch sollte man einige sachliche Punkte erwähnen. Während sich die Zahl der zu betreuenden Kinder zwischen 2008 und 2017 um 16 Prozent erhöht hat, ha'"
      ]
     },
     "execution_count": 7,
     "metadata": {},
     "output_type": "execute_result"
    }
   ],
   "source": [
    "data.iloc[-3].text[1000:1500]"
   ]
  },
  {
   "cell_type": "markdown",
   "id": "890bc54a",
   "metadata": {},
   "source": [
    "We notice some immediate problems with the data:\n",
    "1. It contains comments from other members of parliament within parentheses\n",
    "2. The old speeches use the old German spelling rules\n",
    "3. The old speeches sometimes use underscores ('_'). This was probably done for formatting purposes, but we do not need it.\n",
    "4. This is probably not a problem at all, but earlier speeches use spaces between punctuation marks and newer speeches do not.\n",
    "\n",
    "First, let's fix 1. by simply removing all text inside parentheses."
   ]
  },
  {
   "cell_type": "code",
   "execution_count": 8,
   "id": "5a2dcefe",
   "metadata": {},
   "outputs": [],
   "source": [
    "# Remove bracketed content from speeches. This content is commentary; not part of the original speech.\n",
    "def remove_brackets(text):\n",
    "    text_clean = re.sub(r'\\([^)]*\\)',\"\",text)\n",
    "    text_clean = re.sub(r'\\([^)]*',\"\",text_clean) # Sometimes there will be a comment right before the end of the speech with no closing paren\n",
    "    text_clean = re.sub(\"\\[INTERVENTION BEGINS\\]\", \"\", text_clean)\n",
    "    text_clean = re.sub(\"\\[INTERVENTION ENDS\\]\", \"\", text_clean)\n",
    "    return text_clean\n",
    "\n",
    "data['text_clean'] = data['text'].apply(remove_brackets)"
   ]
  },
  {
   "cell_type": "code",
   "execution_count": 9,
   "id": "ba745f89",
   "metadata": {},
   "outputs": [
    {
     "data": {
      "text/plain": [
       "'schäden erbringen .  _Ja , wenn das für Sie alles bekannt war , wie konnte dann ein so kluger Mann wie Ihr Kanzlerkandidat von einem guten Investitionsstandort sprechen ? Diesen Zwiespalt und Widerspruch in Ihrer Argumentation verstehe ich nicht . . Die Infrastruktur muß praktisch von Grund auf überholt werden . So ist das völlig überlastete Eisenbahnnetz in seiner Ausbauqualität sogar noch weit hinter den Stand von 1939 zurückgefallen .  _Frau Präsidentin , da muß ein Blähhals am Werke sein . .'"
      ]
     },
     "execution_count": 9,
     "metadata": {},
     "output_type": "execute_result"
    }
   ],
   "source": [
    "data.iloc[0].text_clean[-500:]"
   ]
  },
  {
   "cell_type": "code",
   "execution_count": 10,
   "id": "ee1d003f",
   "metadata": {},
   "outputs": [
    {
     "data": {
      "text/plain": [
       "Counter({'F': 1228008,\n",
       "         'r': 37206558,\n",
       "         'a': 26895519,\n",
       "         'u': 20333979,\n",
       "         ' ': 97542920,\n",
       "         'P': 1222709,\n",
       "         'ä': 2845498,\n",
       "         's': 31918591,\n",
       "         'i': 42487418,\n",
       "         'd': 23891862,\n",
       "         'e': 83279537,\n",
       "         'n': 54488238,\n",
       "         't': 30625488,\n",
       "         '!': 255575,\n",
       "         'M': 1507505,\n",
       "         'h': 22641344,\n",
       "         'g': 15721770,\n",
       "         'D': 2765248,\n",
       "         'm': 11124296,\n",
       "         'H': 1066827,\n",
       "         'I': 1436284,\n",
       "         'z': 6000252,\n",
       "         'B': 2022014,\n",
       "         'v': 3468544,\n",
       "         'o': 11887804,\n",
       "         'l': 17384350,\n",
       "         'E': 1760080,\n",
       "         'w': 7141498,\n",
       "         'f': 7201117,\n",
       "         '1': 422216,\n",
       "         '9': 252407,\n",
       "         'W': 1584372,\n",
       "         '.': 5395340,\n",
       "         'V': 1094263,\n",
       "         'A': 2105221,\n",
       "         'b': 8625784,\n",
       "         'ü': 3406054,\n",
       "         '4': 122301,\n",
       "         '0': 677643,\n",
       "         'c': 14588996,\n",
       "         '3': 141151,\n",
       "         'O': 271465,\n",
       "         'k': 5641104,\n",
       "         'U': 624391,\n",
       "         'S': 2983287,\n",
       "         'Z': 658282,\n",
       "         ',': 6228874,\n",
       "         'N': 510008,\n",
       "         '8': 105555,\n",
       "         'j': 543190,\n",
       "         '5': 172998,\n",
       "         'J': 479940,\n",
       "         'p': 2815498,\n",
       "         'ß': 1120253,\n",
       "         'K': 1355935,\n",
       "         '-': 868152,\n",
       "         'ö': 1386233,\n",
       "         '_': 275646,\n",
       "         \"'\": 1921,\n",
       "         '(': 28480,\n",
       "         '[': 14856,\n",
       "         ']': 15132,\n",
       "         ':': 565213,\n",
       "         ')': 34522,\n",
       "         'G': 1240642,\n",
       "         'L': 806057,\n",
       "         'R': 937527,\n",
       "         'C': 207980,\n",
       "         '/': 51133,\n",
       "         'T': 584657,\n",
       "         '?': 212458,\n",
       "         'q': 72278,\n",
       "         'y': 199958,\n",
       "         '6': 103717,\n",
       "         ';': 198156,\n",
       "         'Ö': 40854,\n",
       "         '7': 92185,\n",
       "         'x': 148419,\n",
       "         '2': 335092,\n",
       "         '%': 14728,\n",
       "         'é': 1889,\n",
       "         'Ü': 102186,\n",
       "         'Ä': 52828,\n",
       "         'Q': 38417,\n",
       "         'è': 1158,\n",
       "         'X': 3367,\n",
       "         '§': 17352,\n",
       "         'á': 560,\n",
       "         'à': 780,\n",
       "         '°': 34,\n",
       "         '&': 673,\n",
       "         'ì': 1,\n",
       "         '+': 302,\n",
       "         'ñ': 87,\n",
       "         'ù': 5,\n",
       "         'Y': 2750,\n",
       "         'ó': 131,\n",
       "         '*': 507,\n",
       "         '·': 28,\n",
       "         'ê': 82,\n",
       "         'ç': 159,\n",
       "         '±': 2,\n",
       "         'ú': 204,\n",
       "         'Ñ': 1,\n",
       "         '$': 13,\n",
       "         'µ': 32,\n",
       "         '=': 31,\n",
       "         '\\xad': 8973,\n",
       "         'ô': 60,\n",
       "         'ë': 35,\n",
       "         '`': 207,\n",
       "         '<': 69,\n",
       "         '{': 1,\n",
       "         '\\\\': 626,\n",
       "         'Å': 29,\n",
       "         'â': 4,\n",
       "         'î': 6,\n",
       "         'Ú': 1,\n",
       "         'Ó': 2,\n",
       "         'Ø': 1,\n",
       "         '»': 1,\n",
       "         'Ç': 32,\n",
       "         'À': 11,\n",
       "         'Ô': 1,\n",
       "         'í': 122,\n",
       "         'ò': 2,\n",
       "         'É': 197,\n",
       "         '@': 21,\n",
       "         'ÿ': 2,\n",
       "         '¦': 1,\n",
       "         '¤': 6,\n",
       "         'Æ': 1,\n",
       "         '>': 7,\n",
       "         '^': 15,\n",
       "         '|': 14,\n",
       "         '~': 5,\n",
       "         '´': 28,\n",
       "         '½': 8,\n",
       "         'æ': 10,\n",
       "         '¾': 3,\n",
       "         '¼': 1,\n",
       "         '‚': 201,\n",
       "         '€': 9,\n",
       "         'Á': 3,\n",
       "         '\\t': 63,\n",
       "         'ã': 10,\n",
       "         'Ê': 9,\n",
       "         'š': 429,\n",
       "         'ø': 11,\n",
       "         '¸': 2,\n",
       "         'ð': 234,\n",
       "         '³': 2,\n",
       "         'þ': 4,\n",
       "         'Š': 9,\n",
       "         '²': 2,\n",
       "         'Ý': 1,\n",
       "         '„': 54239,\n",
       "         '“': 54230,\n",
       "         '–': 304556,\n",
       "         '…': 3992,\n",
       "         '\\x1e': 37,\n",
       "         '‘': 265,\n",
       "         '’': 1346,\n",
       "         'ć': 120,\n",
       "         'ğ': 430,\n",
       "         '•': 1,\n",
       "         'ş': 7,\n",
       "         '”': 23,\n",
       "         '\"': 5,\n",
       "         '\\uf020': 75,\n",
       "         'ž': 30,\n",
       "         '≥': 2,\n",
       "         '¡': 1,\n",
       "         'Ş': 1,\n",
       "         '̂': 1,\n",
       "         'Ł': 6,\n",
       "         'ź': 21,\n",
       "         'Α': 1,\n",
       "         'ν': 8,\n",
       "         'α': 8,\n",
       "         'τ': 7,\n",
       "         'ρ': 4,\n",
       "         'ο': 2,\n",
       "         'π': 4,\n",
       "         'ή': 2,\n",
       "         'σ': 2,\n",
       "         'η': 5,\n",
       "         'Ε': 3,\n",
       "         'λ': 3,\n",
       "         'ά': 1,\n",
       "         'δ': 1,\n",
       "         'μ': 3,\n",
       "         'υ': 2,\n",
       "         'ω': 3,\n",
       "         'γ': 1,\n",
       "         'ι': 5,\n",
       "         'ώ': 2,\n",
       "         'κ': 1,\n",
       "         'ό': 1,\n",
       "         'χ': 1,\n",
       "         'ε': 1,\n",
       "         'ζ': 1,\n",
       "         'ę': 1,\n",
       "         'ł': 22,\n",
       "         'č': 30,\n",
       "         'ě': 46,\n",
       "         'ř': 17,\n",
       "         'ń': 6,\n",
       "         '‛': 1,\n",
       "         'ï': 3,\n",
       "         'ā': 3,\n",
       "         '—': 6,\n",
       "         'Ž': 2,\n",
       "         'ı': 7,\n",
       "         '#': 49,\n",
       "         'œ': 1,\n",
       "         'å': 2,\n",
       "         '₂': 4,\n",
       "         'ē': 1,\n",
       "         'ś': 2,\n",
       "         'ʼ': 8,\n",
       "         '‑': 1345,\n",
       "         'ҫ': 1,\n",
       "         '̆': 6,\n",
       "         'û': 1,\n",
       "         'ǧ': 3,\n",
       "         '̃': 1,\n",
       "         '‐': 2,\n",
       "         'Č': 2,\n",
       "         '\\x08': 11})"
      ]
     },
     "execution_count": 10,
     "metadata": {},
     "output_type": "execute_result"
    }
   ],
   "source": [
    "from collections import Counter\n",
    "full_str = data['text'].str.cat()\n",
    "counter = Counter(full_str)\n",
    "counter"
   ]
  },
  {
   "cell_type": "code",
   "execution_count": 11,
   "id": "0c251c54",
   "metadata": {},
   "outputs": [
    {
     "data": {
      "text/html": [
       "<div>\n",
       "<style scoped>\n",
       "    .dataframe tbody tr th:only-of-type {\n",
       "        vertical-align: middle;\n",
       "    }\n",
       "\n",
       "    .dataframe tbody tr th {\n",
       "        vertical-align: top;\n",
       "    }\n",
       "\n",
       "    .dataframe thead th {\n",
       "        text-align: right;\n",
       "    }\n",
       "</style>\n",
       "<table border=\"1\" class=\"dataframe\">\n",
       "  <thead>\n",
       "    <tr style=\"text-align: right;\">\n",
       "      <th></th>\n",
       "      <th>index</th>\n",
       "      <th>date</th>\n",
       "      <th>agenda</th>\n",
       "      <th>speechnumber</th>\n",
       "      <th>speaker</th>\n",
       "      <th>party</th>\n",
       "      <th>party.facts.id</th>\n",
       "      <th>chair</th>\n",
       "      <th>terms</th>\n",
       "      <th>text</th>\n",
       "      <th>parliament</th>\n",
       "      <th>iso3country</th>\n",
       "      <th>text_clean</th>\n",
       "    </tr>\n",
       "  </thead>\n",
       "  <tbody>\n",
       "    <tr>\n",
       "      <th>9062</th>\n",
       "      <td>9062</td>\n",
       "      <td>1991-10-30</td>\n",
       "      <td>NaN</td>\n",
       "      <td>26</td>\n",
       "      <td>Horst Peter</td>\n",
       "      <td>SPD</td>\n",
       "      <td>383.0</td>\n",
       "      <td>False</td>\n",
       "      <td>333</td>\n",
       "      <td>Ich gestehe Ihnen zu , daß diese Ausgaben in d...</td>\n",
       "      <td>DE-Bundestag</td>\n",
       "      <td>DEU</td>\n",
       "      <td>Ich gestehe Ihnen zu , daß diese Ausgaben in d...</td>\n",
       "    </tr>\n",
       "    <tr>\n",
       "      <th>12358</th>\n",
       "      <td>12358</td>\n",
       "      <td>1991-12-12</td>\n",
       "      <td>NaN</td>\n",
       "      <td>15</td>\n",
       "      <td>Claudia Nolte</td>\n",
       "      <td>CDU/CSU</td>\n",
       "      <td>211.0</td>\n",
       "      <td>False</td>\n",
       "      <td>1476</td>\n",
       "      <td>Frau Präsidentin ! Meine sehr geehrten Damen u...</td>\n",
       "      <td>DE-Bundestag</td>\n",
       "      <td>DEU</td>\n",
       "      <td>Frau Präsidentin ! Meine sehr geehrten Damen u...</td>\n",
       "    </tr>\n",
       "    <tr>\n",
       "      <th>12655</th>\n",
       "      <td>12655</td>\n",
       "      <td>1991-12-13</td>\n",
       "      <td>NaN</td>\n",
       "      <td>25</td>\n",
       "      <td>Heidemarie Wieczorek-Zeul</td>\n",
       "      <td>SPD</td>\n",
       "      <td>383.0</td>\n",
       "      <td>False</td>\n",
       "      <td>275</td>\n",
       "      <td>Ich möchte diesen Punkt erst zu Ende bringen ,...</td>\n",
       "      <td>DE-Bundestag</td>\n",
       "      <td>DEU</td>\n",
       "      <td>Ich möchte diesen Punkt erst zu Ende bringen ,...</td>\n",
       "    </tr>\n",
       "    <tr>\n",
       "      <th>13483</th>\n",
       "      <td>13483</td>\n",
       "      <td>1992-01-23</td>\n",
       "      <td>NaN</td>\n",
       "      <td>8</td>\n",
       "      <td>Hermann Bachmaier</td>\n",
       "      <td>SPD</td>\n",
       "      <td>383.0</td>\n",
       "      <td>False</td>\n",
       "      <td>101</td>\n",
       "      <td>Ja , bitte . Heinrich L . Kolb (FDP) : Herr Ba...</td>\n",
       "      <td>DE-Bundestag</td>\n",
       "      <td>DEU</td>\n",
       "      <td>Ja , bitte . Heinrich L . Kolb  : Herr Bachmai...</td>\n",
       "    </tr>\n",
       "    <tr>\n",
       "      <th>13835</th>\n",
       "      <td>13835</td>\n",
       "      <td>1992-01-24</td>\n",
       "      <td>NaN</td>\n",
       "      <td>32</td>\n",
       "      <td>Iris Gleicke</td>\n",
       "      <td>SPD</td>\n",
       "      <td>383.0</td>\n",
       "      <td>False</td>\n",
       "      <td>1275</td>\n",
       "      <td>Herr Präsident ! Meine sehr verehrten Kollegin...</td>\n",
       "      <td>DE-Bundestag</td>\n",
       "      <td>DEU</td>\n",
       "      <td>Herr Präsident ! Meine sehr verehrten Kollegin...</td>\n",
       "    </tr>\n",
       "    <tr>\n",
       "      <th>...</th>\n",
       "      <td>...</td>\n",
       "      <td>...</td>\n",
       "      <td>...</td>\n",
       "      <td>...</td>\n",
       "      <td>...</td>\n",
       "      <td>...</td>\n",
       "      <td>...</td>\n",
       "      <td>...</td>\n",
       "      <td>...</td>\n",
       "      <td>...</td>\n",
       "      <td>...</td>\n",
       "      <td>...</td>\n",
       "      <td>...</td>\n",
       "    </tr>\n",
       "    <tr>\n",
       "      <th>370789</th>\n",
       "      <td>370789</td>\n",
       "      <td>2018-07-03</td>\n",
       "      <td>Tagesordnungspunkt I.8:  Einzelplan 17 Bundesm...</td>\n",
       "      <td>192</td>\n",
       "      <td>Beatrix von Storch</td>\n",
       "      <td>AfD</td>\n",
       "      <td>1976.0</td>\n",
       "      <td>False</td>\n",
       "      <td>698</td>\n",
       "      <td>Frau Präsidentin! Sehr geehrte Damen und Herre...</td>\n",
       "      <td>DE-Bundestag</td>\n",
       "      <td>DEU</td>\n",
       "      <td>Frau Präsidentin! Sehr geehrte Damen und Herre...</td>\n",
       "    </tr>\n",
       "    <tr>\n",
       "      <th>371760</th>\n",
       "      <td>371760</td>\n",
       "      <td>2018-09-12</td>\n",
       "      <td>punkte 1 a und 1 b – fort: a) Erste Beratung d...</td>\n",
       "      <td>84</td>\n",
       "      <td>Simone Barrientos</td>\n",
       "      <td>PDS/LINKE</td>\n",
       "      <td>1545.0</td>\n",
       "      <td>False</td>\n",
       "      <td>474</td>\n",
       "      <td>Sehr geehrter Herr Präsident! Werte Kolleginne...</td>\n",
       "      <td>DE-Bundestag</td>\n",
       "      <td>DEU</td>\n",
       "      <td>Sehr geehrter Herr Präsident! Werte Kolleginne...</td>\n",
       "    </tr>\n",
       "    <tr>\n",
       "      <th>375958</th>\n",
       "      <td>375958</td>\n",
       "      <td>2018-11-08</td>\n",
       "      <td>Damit rufe ich die Tagesordnungspunkte 4 a bis...</td>\n",
       "      <td>26</td>\n",
       "      <td>Markus Kurth</td>\n",
       "      <td>GRUENE</td>\n",
       "      <td>1816.0</td>\n",
       "      <td>False</td>\n",
       "      <td>801</td>\n",
       "      <td>Herr Präsident! Liebe Kolleginnen und Kollegen...</td>\n",
       "      <td>DE-Bundestag</td>\n",
       "      <td>DEU</td>\n",
       "      <td>Herr Präsident! Liebe Kolleginnen und Kollegen...</td>\n",
       "    </tr>\n",
       "    <tr>\n",
       "      <th>376936</th>\n",
       "      <td>376936</td>\n",
       "      <td>2018-11-21</td>\n",
       "      <td>Tagesordnungspunkt I.9: hier: Einzelplan 04 Bu...</td>\n",
       "      <td>16</td>\n",
       "      <td>Sahra Wagenknecht</td>\n",
       "      <td>PDS/LINKE</td>\n",
       "      <td>1545.0</td>\n",
       "      <td>False</td>\n",
       "      <td>2436</td>\n",
       "      <td>Herr Präsident! Sehr geehrte Damen und Herren!...</td>\n",
       "      <td>DE-Bundestag</td>\n",
       "      <td>DEU</td>\n",
       "      <td>Herr Präsident! Sehr geehrte Damen und Herren!...</td>\n",
       "    </tr>\n",
       "    <tr>\n",
       "      <th>378564</th>\n",
       "      <td>378564</td>\n",
       "      <td>2018-11-30</td>\n",
       "      <td>Zusatzpunkt 24:  Aktuelle Stunde auf Verlangen...</td>\n",
       "      <td>303</td>\n",
       "      <td>Anton Friesen</td>\n",
       "      <td>AfD</td>\n",
       "      <td>1976.0</td>\n",
       "      <td>False</td>\n",
       "      <td>486</td>\n",
       "      <td>Sehr geehrter Herr Präsident! Sehr geehrte Dam...</td>\n",
       "      <td>DE-Bundestag</td>\n",
       "      <td>DEU</td>\n",
       "      <td>Sehr geehrter Herr Präsident! Sehr geehrte Dam...</td>\n",
       "    </tr>\n",
       "  </tbody>\n",
       "</table>\n",
       "<p>1079 rows × 13 columns</p>\n",
       "</div>"
      ],
      "text/plain": [
       "         index       date                                             agenda  \\\n",
       "9062      9062 1991-10-30                                                NaN   \n",
       "12358    12358 1991-12-12                                                NaN   \n",
       "12655    12655 1991-12-13                                                NaN   \n",
       "13483    13483 1992-01-23                                                NaN   \n",
       "13835    13835 1992-01-24                                                NaN   \n",
       "...        ...        ...                                                ...   \n",
       "370789  370789 2018-07-03  Tagesordnungspunkt I.8:  Einzelplan 17 Bundesm...   \n",
       "371760  371760 2018-09-12  punkte 1 a und 1 b – fort: a) Erste Beratung d...   \n",
       "375958  375958 2018-11-08  Damit rufe ich die Tagesordnungspunkte 4 a bis...   \n",
       "376936  376936 2018-11-21  Tagesordnungspunkt I.9: hier: Einzelplan 04 Bu...   \n",
       "378564  378564 2018-11-30  Zusatzpunkt 24:  Aktuelle Stunde auf Verlangen...   \n",
       "\n",
       "        speechnumber                    speaker      party  party.facts.id  \\\n",
       "9062              26                Horst Peter        SPD           383.0   \n",
       "12358             15              Claudia Nolte    CDU/CSU           211.0   \n",
       "12655             25  Heidemarie Wieczorek-Zeul        SPD           383.0   \n",
       "13483              8          Hermann Bachmaier        SPD           383.0   \n",
       "13835             32               Iris Gleicke        SPD           383.0   \n",
       "...              ...                        ...        ...             ...   \n",
       "370789           192         Beatrix von Storch        AfD          1976.0   \n",
       "371760            84          Simone Barrientos  PDS/LINKE          1545.0   \n",
       "375958            26               Markus Kurth     GRUENE          1816.0   \n",
       "376936            16          Sahra Wagenknecht  PDS/LINKE          1545.0   \n",
       "378564           303              Anton Friesen        AfD          1976.0   \n",
       "\n",
       "        chair  terms                                               text  \\\n",
       "9062    False    333  Ich gestehe Ihnen zu , daß diese Ausgaben in d...   \n",
       "12358   False   1476  Frau Präsidentin ! Meine sehr geehrten Damen u...   \n",
       "12655   False    275  Ich möchte diesen Punkt erst zu Ende bringen ,...   \n",
       "13483   False    101  Ja , bitte . Heinrich L . Kolb (FDP) : Herr Ba...   \n",
       "13835   False   1275  Herr Präsident ! Meine sehr verehrten Kollegin...   \n",
       "...       ...    ...                                                ...   \n",
       "370789  False    698  Frau Präsidentin! Sehr geehrte Damen und Herre...   \n",
       "371760  False    474  Sehr geehrter Herr Präsident! Werte Kolleginne...   \n",
       "375958  False    801  Herr Präsident! Liebe Kolleginnen und Kollegen...   \n",
       "376936  False   2436  Herr Präsident! Sehr geehrte Damen und Herren!...   \n",
       "378564  False    486  Sehr geehrter Herr Präsident! Sehr geehrte Dam...   \n",
       "\n",
       "          parliament iso3country  \\\n",
       "9062    DE-Bundestag         DEU   \n",
       "12358   DE-Bundestag         DEU   \n",
       "12655   DE-Bundestag         DEU   \n",
       "13483   DE-Bundestag         DEU   \n",
       "13835   DE-Bundestag         DEU   \n",
       "...              ...         ...   \n",
       "370789  DE-Bundestag         DEU   \n",
       "371760  DE-Bundestag         DEU   \n",
       "375958  DE-Bundestag         DEU   \n",
       "376936  DE-Bundestag         DEU   \n",
       "378564  DE-Bundestag         DEU   \n",
       "\n",
       "                                               text_clean  \n",
       "9062    Ich gestehe Ihnen zu , daß diese Ausgaben in d...  \n",
       "12358   Frau Präsidentin ! Meine sehr geehrten Damen u...  \n",
       "12655   Ich möchte diesen Punkt erst zu Ende bringen ,...  \n",
       "13483   Ja , bitte . Heinrich L . Kolb  : Herr Bachmai...  \n",
       "13835   Herr Präsident ! Meine sehr verehrten Kollegin...  \n",
       "...                                                   ...  \n",
       "370789  Frau Präsidentin! Sehr geehrte Damen und Herre...  \n",
       "371760  Sehr geehrter Herr Präsident! Werte Kolleginne...  \n",
       "375958  Herr Präsident! Liebe Kolleginnen und Kollegen...  \n",
       "376936  Herr Präsident! Sehr geehrte Damen und Herren!...  \n",
       "378564  Sehr geehrter Herr Präsident! Sehr geehrte Dam...  \n",
       "\n",
       "[1079 rows x 13 columns]"
      ]
     },
     "execution_count": 11,
     "metadata": {},
     "output_type": "execute_result"
    }
   ],
   "source": [
    "search_text = data[data['text_clean'].str.find('[') > -1].iloc[3].text_clean\n",
    "get_inside_brackets = lambda x: re.findall(r'\\[[^\\]]*\\]', x)\n",
    "broken_candidates = data[data['text_clean'].str.find('[') > -1]\n",
    "broken_candidates"
   ]
  },
  {
   "cell_type": "code",
   "execution_count": 12,
   "id": "f0557d7b",
   "metadata": {},
   "outputs": [
    {
     "data": {
      "text/plain": [
       "'. Es ist doch bekannt, wie heute bei Ryanair, bei Amazon, bei der Deutschen Post und in vielen anderen Unternehmen mit Mitarbeitern umgesprungen wird. Und es sind Ihre Gesetze, die das möglich machen, die möglich machen, dass Menschen in schlecht bezahlten Jobs gedemütigt werden oder dass ömer[CDU/CSU]: sie als Leiharbeiter und Dauerbefristete der Willkür ihrer Arbeitgeber in besonderem Maße ausgeliefert sind. Es sind Ihre Gesetze, die möglich machen, dass Arbeitslose im Jobcenter schikaniert we'"
      ]
     },
     "execution_count": 12,
     "metadata": {},
     "output_type": "execute_result"
    }
   ],
   "source": [
    "data[data.index == 376936].iloc[0].text[10200:10700]"
   ]
  },
  {
   "cell_type": "code",
   "execution_count": 13,
   "id": "dd079a5f",
   "metadata": {},
   "outputs": [
    {
     "data": {
      "text/plain": [
       "'Ich gestehe Ihnen zu , daß diese Ausgaben in den letzten Jahren gesunken sind . . : Wie stark denn ? _ Klaus Kirschner [SPD] : Nachdem sie vorher hochgegangen sind !) _ Ich habe die Prozentzahlen jetzt nicht vor mir liegen . Ich lasse mich da gerne von Ihnen belehren . Die Senkung , die zu erwarten war , ist übrigens durch den Blüm-Bauch begründet , d . h . durch die Möglichkeit , sich noch vor Toresschluß den notwendigen Zahnersatz zu besorgen . Hinterher ist natürlich eine Nachfragelücke entst'"
      ]
     },
     "execution_count": 13,
     "metadata": {},
     "output_type": "execute_result"
    }
   ],
   "source": [
    "data[data.index == 9062].iloc[0].text[:500]"
   ]
  },
  {
   "cell_type": "markdown",
   "id": "5382a40a",
   "metadata": {},
   "source": [
    "Some of the transcriptions simply have broken formatting for commentaries. We kick these candidates out entirely. In the process, we lose some data (a negligible amount in our opinion), but the data that remains is of higher quality."
   ]
  },
  {
   "cell_type": "code",
   "execution_count": 14,
   "id": "9d7a971f",
   "metadata": {},
   "outputs": [
    {
     "name": "stdout",
     "output_type": "stream",
     "text": [
      "Dropped 1079 (0.51%) speeches. 211381 speeches remain.\n"
     ]
    },
    {
     "data": {
      "text/html": [
       "<div>\n",
       "<style scoped>\n",
       "    .dataframe tbody tr th:only-of-type {\n",
       "        vertical-align: middle;\n",
       "    }\n",
       "\n",
       "    .dataframe tbody tr th {\n",
       "        vertical-align: top;\n",
       "    }\n",
       "\n",
       "    .dataframe thead th {\n",
       "        text-align: right;\n",
       "    }\n",
       "</style>\n",
       "<table border=\"1\" class=\"dataframe\">\n",
       "  <thead>\n",
       "    <tr style=\"text-align: right;\">\n",
       "      <th></th>\n",
       "      <th>index</th>\n",
       "      <th>date</th>\n",
       "      <th>agenda</th>\n",
       "      <th>speechnumber</th>\n",
       "      <th>speaker</th>\n",
       "      <th>party</th>\n",
       "      <th>party.facts.id</th>\n",
       "      <th>chair</th>\n",
       "      <th>terms</th>\n",
       "      <th>text</th>\n",
       "      <th>parliament</th>\n",
       "      <th>iso3country</th>\n",
       "      <th>text_clean</th>\n",
       "    </tr>\n",
       "  </thead>\n",
       "  <tbody>\n",
       "  </tbody>\n",
       "</table>\n",
       "</div>"
      ],
      "text/plain": [
       "Empty DataFrame\n",
       "Columns: [index, date, agenda, speechnumber, speaker, party, party.facts.id, chair, terms, text, parliament, iso3country, text_clean]\n",
       "Index: []"
      ]
     },
     "execution_count": 14,
     "metadata": {},
     "output_type": "execute_result"
    }
   ],
   "source": [
    "indices_to_drop = broken_candidates.index\n",
    "filtered_data = data.drop(indices_to_drop)\n",
    "num_dropped = len(data) - len(filtered_data)\n",
    "print(f\"Dropped {num_dropped} ({100 * num_dropped / len(data):.2f}%) speeches. {len(filtered_data)} speeches remain.\")\n",
    "filtered_data[filtered_data['text_clean'].str.find('[') > -1]"
   ]
  },
  {
   "cell_type": "markdown",
   "id": "9af2eddf",
   "metadata": {},
   "source": [
    "Next, let's remove the underscores."
   ]
  },
  {
   "cell_type": "code",
   "execution_count": 15,
   "id": "4f845879",
   "metadata": {},
   "outputs": [
    {
     "data": {
      "text/plain": [
       "'schäden erbringen .  _Ja , wenn das für Sie alles bekannt war , wie konnte dann ein so kluger Mann wie Ihr Kanzlerkandidat von einem guten Investitionsstandort sprechen ? Diesen Zwiespalt und Widerspruch in Ihrer Argumentation verstehe ich nicht . . Die Infrastruktur muß praktisch von Grund auf überholt werden . So ist das völlig überlastete Eisenbahnnetz in seiner Ausbauqualität sogar noch weit hinter den Stand von 1939 zurückgefallen .  _Frau Präsidentin , da muß ein Blähhals am Werke sein . .'"
      ]
     },
     "execution_count": 15,
     "metadata": {},
     "output_type": "execute_result"
    }
   ],
   "source": [
    "filtered_data.iloc[0].text_clean[-500:]"
   ]
  },
  {
   "cell_type": "code",
   "execution_count": 16,
   "id": "bd98594f",
   "metadata": {},
   "outputs": [],
   "source": [
    "def remove_underscores(text):\n",
    "    return re.sub('_', '', text)\n",
    "\n",
    "filtered_data['text_clean'] = filtered_data['text_clean'].apply(remove_underscores)"
   ]
  },
  {
   "cell_type": "code",
   "execution_count": 17,
   "id": "b06dbbf3",
   "metadata": {},
   "outputs": [
    {
     "data": {
      "text/plain": [
       "'ltschäden erbringen .  Ja , wenn das für Sie alles bekannt war , wie konnte dann ein so kluger Mann wie Ihr Kanzlerkandidat von einem guten Investitionsstandort sprechen ? Diesen Zwiespalt und Widerspruch in Ihrer Argumentation verstehe ich nicht . . Die Infrastruktur muß praktisch von Grund auf überholt werden . So ist das völlig überlastete Eisenbahnnetz in seiner Ausbauqualität sogar noch weit hinter den Stand von 1939 zurückgefallen .  Frau Präsidentin , da muß ein Blähhals am Werke sein . .'"
      ]
     },
     "execution_count": 17,
     "metadata": {},
     "output_type": "execute_result"
    }
   ],
   "source": [
    "filtered_data.iloc[0].text_clean[-500:]"
   ]
  },
  {
   "cell_type": "markdown",
   "id": "3b583eff",
   "metadata": {},
   "source": [
    "Finally, we tackle the issue of the German spelling reform. We looked for Python packages to handle this part for us and found nothing. Apparently Word can do it, and there is some really old software from Duden that can also do it. We also tried a spellcheck / autocorrect package, but this solution would destroy more than it would fix (e.g. it would automatically correct names like \"Rolf\" to \"roll\").\n",
    "Thus, we do the bare minimum and transform 'ß' (\"esszet\") into 'ss'. Doing more would probably help the final result, but it's not feasible for the scope of this project."
   ]
  },
  {
   "cell_type": "code",
   "execution_count": 18,
   "id": "597d9cab",
   "metadata": {},
   "outputs": [],
   "source": [
    "def replace_esszet(text):\n",
    "    return re.sub('ß', 'ss', text)\n",
    "\n",
    "filtered_data['text_clean'] = filtered_data['text_clean'].apply(replace_esszet)"
   ]
  },
  {
   "cell_type": "code",
   "execution_count": 19,
   "id": "540f790b",
   "metadata": {},
   "outputs": [
    {
     "data": {
      "text/plain": [
       "'schäden erbringen .  Ja , wenn das für Sie alles bekannt war , wie konnte dann ein so kluger Mann wie Ihr Kanzlerkandidat von einem guten Investitionsstandort sprechen ? Diesen Zwiespalt und Widerspruch in Ihrer Argumentation verstehe ich nicht . . Die Infrastruktur muss praktisch von Grund auf überholt werden . So ist das völlig überlastete Eisenbahnnetz in seiner Ausbauqualität sogar noch weit hinter den Stand von 1939 zurückgefallen .  Frau Präsidentin , da muss ein Blähhals am Werke sein . .'"
      ]
     },
     "execution_count": 19,
     "metadata": {},
     "output_type": "execute_result"
    }
   ],
   "source": [
    "filtered_data.iloc[0].text_clean[-500:]"
   ]
  },
  {
   "cell_type": "code",
   "execution_count": 20,
   "id": "b4bf33d5",
   "metadata": {},
   "outputs": [
    {
     "data": {
      "text/plain": [
       "643848"
      ]
     },
     "execution_count": 20,
     "metadata": {},
     "output_type": "execute_result"
    }
   ],
   "source": [
    "from sklearn.feature_extraction.text import CountVectorizer\n",
    "from nltk.corpus import stopwords\n",
    "stop_words = stopwords.words('german')\n",
    "\n",
    "vectorizer = CountVectorizer(stop_words=stop_words) # max_df and min_df might be worth checking out later\n",
    "vectorizer.fit(filtered_data['text_clean'])\n",
    "len(vectorizer.vocabulary_)"
   ]
  }
 ],
 "metadata": {
  "kernelspec": {
   "display_name": "Python [conda env:root] *",
   "language": "python",
   "name": "conda-root-py"
  },
  "language_info": {
   "codemirror_mode": {
    "name": "ipython",
    "version": 3
   },
   "file_extension": ".py",
   "mimetype": "text/x-python",
   "name": "python",
   "nbconvert_exporter": "python",
   "pygments_lexer": "ipython3",
   "version": "3.8.5"
  }
 },
 "nbformat": 4,
 "nbformat_minor": 5
}
